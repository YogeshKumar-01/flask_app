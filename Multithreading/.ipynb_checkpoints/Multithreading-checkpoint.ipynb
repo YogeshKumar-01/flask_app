{
 "cells": [
  {
   "cell_type": "code",
   "execution_count": 1,
   "id": "9f12deff-0cf2-48b7-897b-f722b416bf5d",
   "metadata": {},
   "outputs": [],
   "source": [
    "import threading"
   ]
  },
  {
   "cell_type": "code",
   "execution_count": 11,
   "id": "41734177-95dc-493d-adbe-f67d033fe548",
   "metadata": {},
   "outputs": [],
   "source": [
    "def test(id):\n",
    "    print('program starts %d' % id)"
   ]
  },
  {
   "cell_type": "code",
   "execution_count": 13,
   "id": "c755cb9e-44c9-48f7-9a08-634e340dc1c1",
   "metadata": {},
   "outputs": [
    {
     "name": "stdout",
     "output_type": "stream",
     "text": [
      "program starts 11\n"
     ]
    }
   ],
   "source": [
    "test(11)"
   ]
  },
  {
   "cell_type": "code",
   "execution_count": 19,
   "id": "8d2002c3-64ab-4e5b-a8c5-cc7b07cda7ce",
   "metadata": {},
   "outputs": [],
   "source": [
    "thread = [threading.Thread(target = test , args = (i,)) for i in range(10)]"
   ]
  },
  {
   "cell_type": "code",
   "execution_count": 21,
   "id": "c93d1015-1dbd-4ddd-a07f-9ece72411ed9",
   "metadata": {},
   "outputs": [
    {
     "name": "stdout",
     "output_type": "stream",
     "text": [
      "program starts 0\n",
      "program starts 1\n",
      "program starts 2\n",
      "program starts 3\n",
      "program starts 4\n",
      "program starts 5\n",
      "program starts 6\n",
      "program starts 7\n",
      "program starts 8\n",
      "program starts 9\n"
     ]
    }
   ],
   "source": [
    "for t in thread:\n",
    "    t.start()"
   ]
  },
  {
   "cell_type": "code",
   "execution_count": 23,
   "id": "1020413b-a251-4bf2-a612-c4566065f1cb",
   "metadata": {},
   "outputs": [
    {
     "data": {
      "text/plain": [
       "[0, 1, 2, 3, 4, 5, 6, 7, 8, 9]"
      ]
     },
     "execution_count": 23,
     "metadata": {},
     "output_type": "execute_result"
    }
   ],
   "source": [
    "list(range(10))"
   ]
  },
  {
   "cell_type": "code",
   "execution_count": 25,
   "id": "6e629649-7aab-417e-ac9f-4f303a79a930",
   "metadata": {},
   "outputs": [
    {
     "data": {
      "text/plain": [
       "[<Thread(Thread-15 (test), stopped 23112)>,\n",
       " <Thread(Thread-16 (test), stopped 25232)>,\n",
       " <Thread(Thread-17 (test), stopped 1624)>,\n",
       " <Thread(Thread-18 (test), stopped 8388)>,\n",
       " <Thread(Thread-19 (test), stopped 5208)>,\n",
       " <Thread(Thread-20 (test), stopped 23380)>,\n",
       " <Thread(Thread-21 (test), stopped 24280)>,\n",
       " <Thread(Thread-22 (test), stopped 9452)>,\n",
       " <Thread(Thread-23 (test), stopped 7096)>,\n",
       " <Thread(Thread-24 (test), stopped 10052)>]"
      ]
     },
     "execution_count": 25,
     "metadata": {},
     "output_type": "execute_result"
    }
   ],
   "source": [
    "thread"
   ]
  },
  {
   "cell_type": "code",
   "execution_count": 27,
   "id": "ceece6e3-5320-474d-a669-b239071e02fe",
   "metadata": {},
   "outputs": [
    {
     "data": {
      "text/plain": [
       "1813391201408"
      ]
     },
     "execution_count": 27,
     "metadata": {},
     "output_type": "execute_result"
    }
   ],
   "source": [
    "id(thread)"
   ]
  },
  {
   "cell_type": "code",
   "execution_count": null,
   "id": "15c501ca-6850-4853-b5ff-aef9df0c86d6",
   "metadata": {},
   "outputs": [],
   "source": [
    "import threading\n",
    "import urllib.requestf"
   ]
  }
 ],
 "metadata": {
  "kernelspec": {
   "display_name": "Python 3 (ipykernel)",
   "language": "python",
   "name": "python3"
  },
  "language_info": {
   "codemirror_mode": {
    "name": "ipython",
    "version": 3
   },
   "file_extension": ".py",
   "mimetype": "text/x-python",
   "name": "python",
   "nbconvert_exporter": "python",
   "pygments_lexer": "ipython3",
   "version": "3.11.7"
  },
  "widgets": {
   "application/vnd.jupyter.widget-state+json": {
    "state": {},
    "version_major": 2,
    "version_minor": 0
   }
  }
 },
 "nbformat": 4,
 "nbformat_minor": 5
}
