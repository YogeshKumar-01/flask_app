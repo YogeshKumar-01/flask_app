{
 "cells": [
  {
   "cell_type": "code",
   "execution_count": 10,
   "id": "9f12deff-0cf2-48b7-897b-f722b416bf5d",
   "metadata": {},
   "outputs": [],
   "source": [
    "import threading"
   ]
  },
  {
   "cell_type": "code",
   "execution_count": 11,
   "id": "41734177-95dc-493d-adbe-f67d033fe548",
   "metadata": {},
   "outputs": [],
   "source": [
    "def test(id):\n",
    "    print('program starts %d' % id)"
   ]
  },
  {
   "cell_type": "code",
   "execution_count": 13,
   "id": "c755cb9e-44c9-48f7-9a08-634e340dc1c1",
   "metadata": {},
   "outputs": [
    {
     "name": "stdout",
     "output_type": "stream",
     "text": [
      "program starts 11\n"
     ]
    }
   ],
   "source": [
    "test(11)"
   ]
  },
  {
   "cell_type": "code",
   "execution_count": 19,
   "id": "8d2002c3-64ab-4e5b-a8c5-cc7b07cda7ce",
   "metadata": {},
   "outputs": [],
   "source": [
    "thread = [threading.Thread(target = test , args = (i,)) for i in range(10)]"
   ]
  },
  {
   "cell_type": "code",
   "execution_count": 21,
   "id": "c93d1015-1dbd-4ddd-a07f-9ece72411ed9",
   "metadata": {},
   "outputs": [
    {
     "name": "stdout",
     "output_type": "stream",
     "text": [
      "program starts 0\n",
      "program starts 1\n",
      "program starts 2\n",
      "program starts 3\n",
      "program starts 4\n",
      "program starts 5\n",
      "program starts 6\n",
      "program starts 7\n",
      "program starts 8\n",
      "program starts 9\n"
     ]
    }
   ],
   "source": [
    "for t in thread:\n",
    "    t.start()"
   ]
  },
  {
   "cell_type": "code",
   "execution_count": 23,
   "id": "1020413b-a251-4bf2-a612-c4566065f1cb",
   "metadata": {},
   "outputs": [
    {
     "data": {
      "text/plain": [
       "[0, 1, 2, 3, 4, 5, 6, 7, 8, 9]"
      ]
     },
     "execution_count": 23,
     "metadata": {},
     "output_type": "execute_result"
    }
   ],
   "source": [
    "list(range(10))"
   ]
  },
  {
   "cell_type": "code",
   "execution_count": 25,
   "id": "6e629649-7aab-417e-ac9f-4f303a79a930",
   "metadata": {},
   "outputs": [
    {
     "data": {
      "text/plain": [
       "[<Thread(Thread-15 (test), stopped 23112)>,\n",
       " <Thread(Thread-16 (test), stopped 25232)>,\n",
       " <Thread(Thread-17 (test), stopped 1624)>,\n",
       " <Thread(Thread-18 (test), stopped 8388)>,\n",
       " <Thread(Thread-19 (test), stopped 5208)>,\n",
       " <Thread(Thread-20 (test), stopped 23380)>,\n",
       " <Thread(Thread-21 (test), stopped 24280)>,\n",
       " <Thread(Thread-22 (test), stopped 9452)>,\n",
       " <Thread(Thread-23 (test), stopped 7096)>,\n",
       " <Thread(Thread-24 (test), stopped 10052)>]"
      ]
     },
     "execution_count": 25,
     "metadata": {},
     "output_type": "execute_result"
    }
   ],
   "source": [
    "thread"
   ]
  },
  {
   "cell_type": "code",
   "execution_count": 27,
   "id": "ceece6e3-5320-474d-a669-b239071e02fe",
   "metadata": {},
   "outputs": [
    {
     "data": {
      "text/plain": [
       "1813391201408"
      ]
     },
     "execution_count": 27,
     "metadata": {},
     "output_type": "execute_result"
    }
   ],
   "source": [
    "id(thread)"
   ]
  },
  {
   "cell_type": "code",
   "execution_count": 1,
   "id": "15c501ca-6850-4853-b5ff-aef9df0c86d6",
   "metadata": {},
   "outputs": [],
   "source": [
    "import threading\n",
    "import urllib.request\n",
    "\n",
    "def file_download(url, filename):\n",
    "    urllib.request.urlretrieve(url, filename)"
   ]
  },
  {
   "cell_type": "code",
   "execution_count": 9,
   "id": "60dacc25-9e36-451b-823e-84f39b357e55",
   "metadata": {},
   "outputs": [],
   "source": [
    "file_download('https://github.com/itsfoss/text-files/blob/master/agatha.txt','text2.txt')"
   ]
  },
  {
   "cell_type": "code",
   "execution_count": 60,
   "id": "2f396d35-d174-4095-8d19-5baa2a14c963",
   "metadata": {},
   "outputs": [],
   "source": [
    "import time"
   ]
  },
  {
   "cell_type": "code",
   "execution_count": 70,
   "id": "4bde3709-1990-4e27-a515-d6ad9be2667e",
   "metadata": {},
   "outputs": [],
   "source": [
    "def test1(id):\n",
    "    for i in range(10):\n",
    "        print('test1 %d printing %d %s' %(id,i,time.ctime()))\n",
    "        time.sleep(1) "
   ]
  },
  {
   "cell_type": "code",
   "execution_count": 72,
   "id": "03d54e95-3917-40df-b385-2ba464a8cd9d",
   "metadata": {},
   "outputs": [],
   "source": [
    "# test1(1)"
   ]
  },
  {
   "cell_type": "code",
   "execution_count": 78,
   "id": "044b95c4-4c39-406f-87e3-bf8aa28be0ba",
   "metadata": {},
   "outputs": [],
   "source": [
    "thread1 = [ threading.Thread(target = test1, args = (i,)) for i in range(3) ]"
   ]
  },
  {
   "cell_type": "code",
   "execution_count": 80,
   "id": "aea3d825-b8ee-44ae-bd18-4eb8d7933407",
   "metadata": {},
   "outputs": [
    {
     "name": "stdout",
     "output_type": "stream",
     "text": [
      "test1 0 printing 0 Thu Aug  8 17:25:08 2024\n",
      "test1 1 printing 0 Thu Aug  8 17:25:08 2024\n",
      "test1 2 printing 0 Thu Aug  8 17:25:08 2024\n"
     ]
    }
   ],
   "source": [
    "for t in thread1:\n",
    "    t.start()"
   ]
  },
  {
   "cell_type": "code",
   "execution_count": 108,
   "id": "9d8f6d1e-75d9-498b-bc13-8495cd99aef5",
   "metadata": {},
   "outputs": [],
   "source": [
    "shared_var = 0\n",
    "lock_var = threading.Lock()"
   ]
  },
  {
   "cell_type": "code",
   "execution_count": 118,
   "id": "e85103ea-27c7-4bdb-8897-fb0d19e144a7",
   "metadata": {},
   "outputs": [
    {
     "name": "stdout",
     "output_type": "stream",
     "text": [
      "test2 is 0 has increased the shared variable by 1\n"
     ]
    }
   ],
   "source": [
    "shared_var = 0\n",
    "lock_var = threading.Lock()\n",
    "def test2(id):\n",
    "    global shared_var\n",
    "    with lock_var:\n",
    "        shared_var = shared_var+1\n",
    "        print('test2 is %d has increased the shared variable by %d' %(id, shared_var))\n",
    "        time.sleep(1)\n",
    "th3 = [threading.Thread(target = test2, args = (i, )) for i in range(3)]\n",
    "for t in th3:\n",
    "    t.start()"
   ]
  },
  {
   "cell_type": "code",
   "execution_count": 120,
   "id": "55acc5dd-1825-41af-8893-164c42d6aa20",
   "metadata": {},
   "outputs": [
    {
     "name": "stdout",
     "output_type": "stream",
     "text": [
      "test2 is 1 has increased the shared variable by 2\n",
      "test2 is 2 has increased the shared variable by 3\n",
      "test2 is 0 has increased the shared variable by 4\n"
     ]
    }
   ],
   "source": [
    "test2(0)"
   ]
  },
  {
   "cell_type": "code",
   "execution_count": 121,
   "id": "4da064f0-f828-470d-ae48-af3e02cb5015",
   "metadata": {},
   "outputs": [
    {
     "data": {
      "text/plain": [
       "[<Thread(Thread-56 (test2), stopped 21064)>,\n",
       " <Thread(Thread-57 (test2), stopped 29044)>,\n",
       " <Thread(Thread-58 (test2), stopped 29564)>]"
      ]
     },
     "execution_count": 121,
     "metadata": {},
     "output_type": "execute_result"
    }
   ],
   "source": [
    "th3"
   ]
  },
  {
   "cell_type": "code",
   "execution_count": null,
   "id": "8200c8f6-0c37-4ffc-9d40-978f8515f740",
   "metadata": {},
   "outputs": [],
   "source": []
  },
  {
   "cell_type": "code",
   "execution_count": null,
   "id": "82799d75-5eec-416c-8909-56781da90671",
   "metadata": {},
   "outputs": [],
   "source": []
  },
  {
   "cell_type": "code",
   "execution_count": null,
   "id": "f484315b-c606-4675-80a9-1aee527cda7c",
   "metadata": {},
   "outputs": [],
   "source": []
  }
 ],
 "metadata": {
  "kernelspec": {
   "display_name": "Python 3 (ipykernel)",
   "language": "python",
   "name": "python3"
  },
  "language_info": {
   "codemirror_mode": {
    "name": "ipython",
    "version": 3
   },
   "file_extension": ".py",
   "mimetype": "text/x-python",
   "name": "python",
   "nbconvert_exporter": "python",
   "pygments_lexer": "ipython3",
   "version": "3.11.7"
  },
  "widgets": {
   "application/vnd.jupyter.widget-state+json": {
    "state": {},
    "version_major": 2,
    "version_minor": 0
   }
  }
 },
 "nbformat": 4,
 "nbformat_minor": 5
}
