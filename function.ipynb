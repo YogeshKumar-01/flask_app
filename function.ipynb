{
 "cells": [
  {
   "cell_type": "code",
   "execution_count": 2,
   "id": "21da2e58-d918-4f77-973e-70541c6740f0",
   "metadata": {},
   "outputs": [
    {
     "name": "stdout",
     "output_type": "stream",
     "text": [
      "this is my print\n"
     ]
    }
   ],
   "source": [
    "print(\"this is my print\")"
   ]
  },
  {
   "cell_type": "code",
   "execution_count": 3,
   "id": "a51f4b83-0050-4145-927b-95bb7cf1edcb",
   "metadata": {},
   "outputs": [],
   "source": [
    "l = [324,45,45,45]"
   ]
  },
  {
   "cell_type": "code",
   "execution_count": 4,
   "id": "6ed790fa-4d36-44c4-9cb6-fb882d294ff4",
   "metadata": {},
   "outputs": [
    {
     "data": {
      "text/plain": [
       "4"
      ]
     },
     "execution_count": 4,
     "metadata": {},
     "output_type": "execute_result"
    }
   ],
   "source": [
    "len(l)"
   ]
  },
  {
   "cell_type": "code",
   "execution_count": 5,
   "id": "35e7e28e-d82f-450d-aac7-e89a08f5749f",
   "metadata": {},
   "outputs": [
    {
     "data": {
      "text/plain": [
       "list"
      ]
     },
     "execution_count": 5,
     "metadata": {},
     "output_type": "execute_result"
    }
   ],
   "source": [
    "type(l)"
   ]
  },
  {
   "cell_type": "code",
   "execution_count": 6,
   "id": "f94ec2f2-d6af-411c-bb92-13569dd67275",
   "metadata": {},
   "outputs": [],
   "source": [
    "def test():\n",
    "    pass"
   ]
  },
  {
   "cell_type": "code",
   "execution_count": 7,
   "id": "cfd9652f-4625-4ccd-b298-2c5000aa53d7",
   "metadata": {},
   "outputs": [],
   "source": [
    "def test1():\n",
    "    print(\"This is not my first function\")"
   ]
  },
  {
   "cell_type": "code",
   "execution_count": 8,
   "id": "1daf8b2a-c797-4372-9909-91a7e4230ab1",
   "metadata": {},
   "outputs": [
    {
     "name": "stdout",
     "output_type": "stream",
     "text": [
      "This is not my first function\n"
     ]
    }
   ],
   "source": [
    "test1()"
   ]
  },
  {
   "cell_type": "code",
   "execution_count": 9,
   "id": "cee72da8-f39d-4909-82a3-ce0b5ed6e166",
   "metadata": {},
   "outputs": [],
   "source": [
    "def test2():\n",
    "    return \"Hello\""
   ]
  },
  {
   "cell_type": "code",
   "execution_count": 10,
   "id": "1cb8aeec-618d-489a-9a93-16069c9c4ce6",
   "metadata": {},
   "outputs": [
    {
     "data": {
      "text/plain": [
       "'Hello'"
      ]
     },
     "execution_count": 10,
     "metadata": {},
     "output_type": "execute_result"
    }
   ],
   "source": [
    "test2()"
   ]
  },
  {
   "cell_type": "code",
   "execution_count": 11,
   "id": "6c7b2cff-bd69-46a4-a3cf-00fd3031449c",
   "metadata": {},
   "outputs": [
    {
     "data": {
      "text/plain": [
       "'Helloworld'"
      ]
     },
     "execution_count": 11,
     "metadata": {},
     "output_type": "execute_result"
    }
   ],
   "source": [
    "test2()+\"world\""
   ]
  },
  {
   "cell_type": "code",
   "execution_count": 12,
   "id": "47cbc773-8c12-4f0c-bece-17ab732ea71a",
   "metadata": {},
   "outputs": [],
   "source": [
    "def test3():\n",
    "    return 'sudh', 23, 345.56, [1,2,3,4]"
   ]
  },
  {
   "cell_type": "code",
   "execution_count": 13,
   "id": "e194a485-c896-4c7a-96d6-be3e50ba517d",
   "metadata": {},
   "outputs": [
    {
     "data": {
      "text/plain": [
       "('sudh', 23, 345.56, [1, 2, 3, 4])"
      ]
     },
     "execution_count": 13,
     "metadata": {},
     "output_type": "execute_result"
    }
   ],
   "source": [
    "test3()"
   ]
  },
  {
   "cell_type": "code",
   "execution_count": 14,
   "id": "13971d98-4d5d-4783-911a-6ebcc3f7ba9a",
   "metadata": {},
   "outputs": [],
   "source": [
    "a,b,c,d = test3()"
   ]
  },
  {
   "cell_type": "code",
   "execution_count": 35,
   "id": "7a7435ee-d940-4600-b001-7cc8a8cb89b6",
   "metadata": {},
   "outputs": [
    {
     "data": {
      "text/plain": [
       "('sudh', 23, 345.56, [1, 2, 3, 4])"
      ]
     },
     "execution_count": 35,
     "metadata": {},
     "output_type": "execute_result"
    }
   ],
   "source": [
    "a,b,c,d"
   ]
  },
  {
   "cell_type": "code",
   "execution_count": 38,
   "id": "bdf140d4-4243-49eb-9c4d-62f24499d5a7",
   "metadata": {},
   "outputs": [
    {
     "data": {
      "text/plain": [
       "('sudh', 23)"
      ]
     },
     "execution_count": 38,
     "metadata": {},
     "output_type": "execute_result"
    }
   ],
   "source": [
    "a,b"
   ]
  },
  {
   "cell_type": "code",
   "execution_count": 16,
   "id": "439430d9-6738-4ff7-b55c-1bd251382e09",
   "metadata": {},
   "outputs": [],
   "source": [
    "def test4():\n",
    "    a = 5+6/7\n",
    "    return a"
   ]
  },
  {
   "cell_type": "code",
   "execution_count": 17,
   "id": "a97d57ef-b999-49b1-97ef-e009e5402a87",
   "metadata": {},
   "outputs": [
    {
     "data": {
      "text/plain": [
       "5.857142857142857"
      ]
     },
     "execution_count": 17,
     "metadata": {},
     "output_type": "execute_result"
    }
   ],
   "source": [
    "test4()"
   ]
  },
  {
   "cell_type": "code",
   "execution_count": 18,
   "id": "4c8e62e6-45d9-4e38-94bd-32a95ade8d2e",
   "metadata": {},
   "outputs": [],
   "source": [
    "def test5(a, b, c):\n",
    "    d = a+b/c\n",
    "    return d"
   ]
  },
  {
   "cell_type": "code",
   "execution_count": 19,
   "id": "b0c3ff57-5761-41b4-9b6f-a5e7e8964a9f",
   "metadata": {},
   "outputs": [
    {
     "data": {
      "text/plain": [
       "2.625"
      ]
     },
     "execution_count": 19,
     "metadata": {},
     "output_type": "execute_result"
    }
   ],
   "source": [
    "test5(2, 5, 8)"
   ]
  },
  {
   "cell_type": "code",
   "execution_count": 20,
   "id": "ef8ff369-15f4-40d4-9661-a9158af8b1c4",
   "metadata": {},
   "outputs": [],
   "source": [
    "def test6(a,b):\n",
    "    return a+b"
   ]
  },
  {
   "cell_type": "code",
   "execution_count": 21,
   "id": "1e1863cf-7f14-4cf7-a63e-2c59f4957d73",
   "metadata": {},
   "outputs": [
    {
     "data": {
      "text/plain": [
       "7"
      ]
     },
     "execution_count": 21,
     "metadata": {},
     "output_type": "execute_result"
    }
   ],
   "source": [
    "test6(3,4)"
   ]
  },
  {
   "cell_type": "code",
   "execution_count": 22,
   "id": "e416b91e-56ab-4901-9faa-4958c6c17d48",
   "metadata": {},
   "outputs": [
    {
     "data": {
      "text/plain": [
       "'sudhkumar'"
      ]
     },
     "execution_count": 22,
     "metadata": {},
     "output_type": "execute_result"
    }
   ],
   "source": [
    "test6('sudh', 'kumar')"
   ]
  },
  {
   "cell_type": "code",
   "execution_count": 23,
   "id": "283deaab-1494-48db-a3bf-84ddeb9499e3",
   "metadata": {},
   "outputs": [
    {
     "data": {
      "text/plain": [
       "[1, 2, 3, 4, 5, 6, 4, 5, 6]"
      ]
     },
     "execution_count": 23,
     "metadata": {},
     "output_type": "execute_result"
    }
   ],
   "source": [
    "test6([1,2,3,4,5,6], [4,5,6])"
   ]
  },
  {
   "cell_type": "code",
   "execution_count": 24,
   "id": "f7b70445-8433-4f53-86d8-3022c5823a95",
   "metadata": {},
   "outputs": [],
   "source": [
    "l = [1,2,3,4,'sudh','kumar',[1,2,3,4,5,6]]"
   ]
  },
  {
   "cell_type": "code",
   "execution_count": 25,
   "id": "07cd1145-3bcd-46a7-abb7-d47b60c963db",
   "metadata": {},
   "outputs": [],
   "source": [
    "l1 = []\n",
    "for i in l:\n",
    "    if type(i)==int or type(i) == float:\n",
    "        l1.append(i)"
   ]
  },
  {
   "cell_type": "code",
   "execution_count": 26,
   "id": "a025daaf-b5e9-417b-a1f1-0b1757332f68",
   "metadata": {},
   "outputs": [
    {
     "data": {
      "text/plain": [
       "[1, 2, 3, 4]"
      ]
     },
     "execution_count": 26,
     "metadata": {},
     "output_type": "execute_result"
    }
   ],
   "source": [
    "l1"
   ]
  },
  {
   "cell_type": "code",
   "execution_count": 27,
   "id": "6b84376d-0c15-4f13-9af6-200c59d71b9f",
   "metadata": {},
   "outputs": [],
   "source": [
    "def test7(l):\n",
    "    l1 = []\n",
    "    for i in l:\n",
    "        if type(i) == int or type(i) == float:\n",
    "            l1.append(i)\n",
    "    return l1"
   ]
  },
  {
   "cell_type": "code",
   "execution_count": 28,
   "id": "e01e2b31-6e7a-4526-981b-e32a1b168786",
   "metadata": {},
   "outputs": [
    {
     "data": {
      "text/plain": [
       "[1, 2, 3, 4]"
      ]
     },
     "execution_count": 28,
     "metadata": {},
     "output_type": "execute_result"
    }
   ],
   "source": [
    "test7(l)"
   ]
  },
  {
   "cell_type": "code",
   "execution_count": 29,
   "id": "130d944f-ed01-4d61-afbe-893ba37b945e",
   "metadata": {},
   "outputs": [
    {
     "data": {
      "text/plain": [
       "[1, 2, 3, 4, 'sudh', 'kumar', [1, 2, 3, 4, 5, 6]]"
      ]
     },
     "execution_count": 29,
     "metadata": {},
     "output_type": "execute_result"
    }
   ],
   "source": [
    "l"
   ]
  },
  {
   "cell_type": "code",
   "execution_count": 30,
   "id": "064cdd38-25e8-47f8-88d9-adbfa031180f",
   "metadata": {},
   "outputs": [],
   "source": [
    "def test8(a):\n",
    "    l = []\n",
    "    for i in a:\n",
    "        if type(i) == list:\n",
    "            for j in i:\n",
    "                l.append(j)\n",
    "        else:\n",
    "            if type(i) == int or type(i) == float: \n",
    "                l.append(i)\n",
    "    return l"
   ]
  },
  {
   "cell_type": "code",
   "execution_count": 31,
   "id": "c7f2a760-e21c-4874-9ae8-a4b4b7c32f08",
   "metadata": {},
   "outputs": [
    {
     "data": {
      "text/plain": [
       "[1, 2, 3, 4, 1, 2, 3, 4, 5, 6]"
      ]
     },
     "execution_count": 31,
     "metadata": {},
     "output_type": "execute_result"
    }
   ],
   "source": [
    "test8(l)"
   ]
  },
  {
   "cell_type": "code",
   "execution_count": 39,
   "id": "8f2cb67c-acb4-45b7-9ef5-8cfe8c00242e",
   "metadata": {},
   "outputs": [
    {
     "data": {
      "text/plain": [
       "7"
      ]
     },
     "execution_count": 39,
     "metadata": {},
     "output_type": "execute_result"
    }
   ],
   "source": [
    "len( l)"
   ]
  },
  {
   "cell_type": "code",
   "execution_count": null,
   "id": "7e7d07d6-335f-4fad-8808-2693313d9362",
   "metadata": {},
   "outputs": [],
   "source": [
    "def test9(a):\n",
    "    '''This is my function to extract num data from list'''\n",
    "    \n",
    "    l = []\n",
    "    for i in a:\n",
    "        if type(i) == list:\n",
    "            for j in i:\n",
    "                l.append(j)\n",
    "        else:\n",
    "            if type(i) == int or type(i) == float: \n",
    "                l.append(i)\n",
    "    return l"
   ]
  },
  {
   "cell_type": "code",
   "execution_count": null,
   "id": "7d6e8996-ec02-4f93-bea0-50de9d90774f",
   "metadata": {},
   "outputs": [],
   "source": [
    "test9()"
   ]
  },
  {
   "cell_type": "code",
   "execution_count": null,
   "id": "b9af2aed-8d2e-4b80-b00e-0a12c18616e9",
   "metadata": {},
   "outputs": [],
   "source": [
    "def test10(a,b):\n",
    "    return a+b"
   ]
  },
  {
   "cell_type": "code",
   "execution_count": null,
   "id": "db000c9b-3e43-4894-a012-29e92e2c3157",
   "metadata": {},
   "outputs": [],
   "source": [
    "def test11(*args):\n",
    "    return args"
   ]
  },
  {
   "cell_type": "code",
   "execution_count": null,
   "id": "911849e7-fbdc-419b-97de-e9b1b28280e0",
   "metadata": {},
   "outputs": [],
   "source": [
    "test11()"
   ]
  },
  {
   "cell_type": "code",
   "execution_count": null,
   "id": "323bc577-29a6-4c97-9eab-c8749ad6d45c",
   "metadata": {},
   "outputs": [],
   "source": [
    "type(test11())"
   ]
  },
  {
   "cell_type": "code",
   "execution_count": null,
   "id": "2fbf774c-3f63-43e8-8d8a-f04c8be56197",
   "metadata": {},
   "outputs": [],
   "source": [
    "test11(1,2,3,'sudh','kumar')"
   ]
  },
  {
   "cell_type": "code",
   "execution_count": null,
   "id": "3ef2d7db-15c1-46f9-b248-e6e97a2b2771",
   "metadata": {},
   "outputs": [],
   "source": [
    "def test13(*args, a):\n",
    "    return args,a"
   ]
  },
  {
   "cell_type": "code",
   "execution_count": null,
   "id": "19e4c7d8-bf1c-4f90-9e04-cf21c4437988",
   "metadata": {},
   "outputs": [],
   "source": [
    "test13(1,2,3,4)"
   ]
  },
  {
   "cell_type": "code",
   "execution_count": null,
   "id": "e5cba8af-91d5-406e-93a6-691050817b4b",
   "metadata": {},
   "outputs": [],
   "source": [
    "test13(1,2,3,4, a = 23)"
   ]
  },
  {
   "cell_type": "code",
   "execution_count": null,
   "id": "5881e59e-7132-4ec8-8507-65a7afd638bc",
   "metadata": {},
   "outputs": [],
   "source": [
    "def test14(c,d,a = 23, b= 1):\n",
    "    return a,b,c,d"
   ]
  },
  {
   "cell_type": "code",
   "execution_count": null,
   "id": "9d8ec836-b000-4982-b3a7-17ebc495ae7b",
   "metadata": {},
   "outputs": [],
   "source": [
    "test14( 3,4 )"
   ]
  },
  {
   "cell_type": "code",
   "execution_count": null,
   "id": "305349a7-4e86-4cd3-920a-9183808e777e",
   "metadata": {},
   "outputs": [],
   "source": [
    "test14(2,5,2342)"
   ]
  },
  {
   "cell_type": "code",
   "execution_count": 40,
   "id": "38ceb973-5a64-4361-b2ad-f6c4135498c4",
   "metadata": {},
   "outputs": [],
   "source": [
    "def test15(**kwargs):\n",
    "    return kwargs"
   ]
  },
  {
   "cell_type": "code",
   "execution_count": 41,
   "id": "4a23392d-11e7-4f1c-9386-e2692cbc1240",
   "metadata": {},
   "outputs": [
    {
     "data": {
      "text/plain": [
       "dict"
      ]
     },
     "execution_count": 41,
     "metadata": {},
     "output_type": "execute_result"
    }
   ],
   "source": [
    "type(test15())"
   ]
  },
  {
   "cell_type": "code",
   "execution_count": 42,
   "id": "9f9a954c-3f98-456f-9e32-26bf08e12bd4",
   "metadata": {},
   "outputs": [
    {
     "data": {
      "text/plain": [
       "{'a': [1, 2, 3, 4], 'b': 'sudh', 'c': 23.24}"
      ]
     },
     "execution_count": 42,
     "metadata": {},
     "output_type": "execute_result"
    }
   ],
   "source": [
    "test15(a = [1,2,3,4], b = 'sudh', c=23.24)"
   ]
  },
  {
   "cell_type": "code",
   "execution_count": null,
   "id": "48416cdf-b25b-4b60-bcd0-c9c1867cb691",
   "metadata": {},
   "outputs": [],
   "source": []
  },
  {
   "cell_type": "code",
   "execution_count": null,
   "id": "dd810f5b-59a7-490b-b245-8d16e05c1701",
   "metadata": {},
   "outputs": [],
   "source": []
  },
  {
   "cell_type": "code",
   "execution_count": null,
   "id": "c50165ff-036e-4dbd-8732-4548059e0f00",
   "metadata": {},
   "outputs": [],
   "source": []
  },
  {
   "cell_type": "code",
   "execution_count": null,
   "id": "224bb74a-0b36-4a13-bba2-aabdffd843f4",
   "metadata": {},
   "outputs": [],
   "source": []
  }
 ],
 "metadata": {
  "kernelspec": {
   "display_name": "Python 3 (ipykernel)",
   "language": "python",
   "name": "python3"
  },
  "language_info": {
   "codemirror_mode": {
    "name": "ipython",
    "version": 3
   },
   "file_extension": ".py",
   "mimetype": "text/x-python",
   "name": "python",
   "nbconvert_exporter": "python",
   "pygments_lexer": "ipython3",
   "version": "3.11.7"
  },
  "widgets": {
   "application/vnd.jupyter.widget-state+json": {
    "state": {},
    "version_major": 2,
    "version_minor": 0
   }
  }
 },
 "nbformat": 4,
 "nbformat_minor": 5
}
