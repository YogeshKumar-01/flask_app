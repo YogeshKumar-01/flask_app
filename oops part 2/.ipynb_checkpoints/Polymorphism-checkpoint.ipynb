{
 "cells": [
  {
   "cell_type": "markdown",
   "id": "0a2049e0-d26f-4208-b1a2-5ec61c4e165e",
   "metadata": {},
   "source": [
    "Polymorphism"
   ]
  },
  {
   "cell_type": "code",
   "execution_count": 44,
   "id": "ea5a9067-c008-4782-a22d-b93a0f46f0ef",
   "metadata": {},
   "outputs": [],
   "source": [
    "def add(a,b):\n",
    "    return a+b"
   ]
  },
  {
   "cell_type": "code",
   "execution_count": 45,
   "id": "3c367375-f0cd-4282-a38a-7d2d1af48412",
   "metadata": {},
   "outputs": [
    {
     "data": {
      "text/plain": [
       "9"
      ]
     },
     "execution_count": 45,
     "metadata": {},
     "output_type": "execute_result"
    }
   ],
   "source": [
    "add(4,5)"
   ]
  },
  {
   "cell_type": "code",
   "execution_count": 46,
   "id": "5ad5c63e-68ca-4f6e-93ed-60e5291ebddd",
   "metadata": {},
   "outputs": [
    {
     "data": {
      "text/plain": [
       "'abcdef'"
      ]
     },
     "execution_count": 46,
     "metadata": {},
     "output_type": "execute_result"
    }
   ],
   "source": [
    "add(\"abc\", \"def\")"
   ]
  },
  {
   "cell_type": "code",
   "execution_count": 47,
   "id": "2132a2af-76b9-4838-b53d-a72fa2696492",
   "metadata": {},
   "outputs": [
    {
     "data": {
      "text/plain": [
       "[1, 2, 3, 4, 5, 6]"
      ]
     },
     "execution_count": 47,
     "metadata": {},
     "output_type": "execute_result"
    }
   ],
   "source": [
    "add([1,2,3],[4,5,6])"
   ]
  },
  {
   "cell_type": "code",
   "execution_count": 56,
   "id": "44ef82bb-6f8d-4cc9-b15f-f1372807b882",
   "metadata": {},
   "outputs": [],
   "source": [
    "class data_science:\n",
    "    \n",
    "        def syllabus(self):\n",
    "            print(\"this is data science syllabus\")"
   ]
  },
  {
   "cell_type": "code",
   "execution_count": 57,
   "id": "fa901c14-3ead-41cd-9781-dc85a9e5a2d8",
   "metadata": {},
   "outputs": [],
   "source": [
    "class web_dev:\n",
    "    \n",
    "    def syllabus(self):\n",
    "        print(\"this is web dev syllabus\")"
   ]
  },
  {
   "cell_type": "code",
   "execution_count": 63,
   "id": "052e1b30-4de9-4801-960e-c60785ab2840",
   "metadata": {},
   "outputs": [],
   "source": [
    "def class_parcer(class_obj):\n",
    "    for i in class_obj:\n",
    "        i.syllabus()"
   ]
  },
  {
   "cell_type": "code",
   "execution_count": 64,
   "id": "862642f4-d2ea-4333-86a6-8cf2ba8f6954",
   "metadata": {},
   "outputs": [],
   "source": [
    "datascience = datascience()"
   ]
  },
  {
   "cell_type": "code",
   "execution_count": 65,
   "id": "5431e38b-2eb9-40ac-9ede-6ce11da199fd",
   "metadata": {},
   "outputs": [],
   "source": [
    "web_dev = web_dev()"
   ]
  },
  {
   "cell_type": "code",
   "execution_count": 66,
   "id": "e142a1e7-00ae-4e06-b1de-fc8ec63c622b",
   "metadata": {},
   "outputs": [],
   "source": [
    "class_obj = [datascience , web_dev]"
   ]
  },
  {
   "cell_type": "code",
   "execution_count": 67,
   "id": "da005847-a383-4933-8224-11383b4fc2d4",
   "metadata": {},
   "outputs": [
    {
     "name": "stdout",
     "output_type": "stream",
     "text": [
      "this is data science syllabus\n",
      "this is web dev syllabus\n"
     ]
    }
   ],
   "source": [
    "parser(class_obj)"
   ]
  },
  {
   "cell_type": "code",
   "execution_count": null,
   "id": "80c03fe9-d033-4e49-82dc-6dfedad08a31",
   "metadata": {},
   "outputs": [],
   "source": []
  },
  {
   "cell_type": "code",
   "execution_count": null,
   "id": "58a70222-e8ef-4b0e-8cc5-c65b5e71711c",
   "metadata": {},
   "outputs": [],
   "source": []
  },
  {
   "cell_type": "code",
   "execution_count": null,
   "id": "0c0fd748-e20a-4348-93f7-add92fbf5d45",
   "metadata": {},
   "outputs": [],
   "source": []
  },
  {
   "cell_type": "code",
   "execution_count": null,
   "id": "0ff1b1b1-bfd9-4099-8f14-b99da44e03eb",
   "metadata": {},
   "outputs": [],
   "source": []
  },
  {
   "cell_type": "code",
   "execution_count": null,
   "id": "b6f5545d-f2f3-42b9-8ad1-3b5dba78d04d",
   "metadata": {},
   "outputs": [],
   "source": []
  },
  {
   "cell_type": "code",
   "execution_count": null,
   "id": "fa57d3d9-cca7-41fc-a199-71ca01d0a501",
   "metadata": {},
   "outputs": [],
   "source": []
  },
  {
   "cell_type": "code",
   "execution_count": null,
   "id": "85e3113a-223f-430c-b0ad-71ba186eb6f9",
   "metadata": {},
   "outputs": [],
   "source": []
  },
  {
   "cell_type": "code",
   "execution_count": null,
   "id": "57461c89-3fc0-42ce-b77b-d57e5114c4be",
   "metadata": {},
   "outputs": [],
   "source": []
  }
 ],
 "metadata": {
  "kernelspec": {
   "display_name": "Python 3 (ipykernel)",
   "language": "python",
   "name": "python3"
  },
  "language_info": {
   "codemirror_mode": {
    "name": "ipython",
    "version": 3
   },
   "file_extension": ".py",
   "mimetype": "text/x-python",
   "name": "python",
   "nbconvert_exporter": "python",
   "pygments_lexer": "ipython3",
   "version": "3.11.7"
  },
  "widgets": {
   "application/vnd.jupyter.widget-state+json": {
    "state": {},
    "version_major": 2,
    "version_minor": 0
   }
  }
 },
 "nbformat": 4,
 "nbformat_minor": 5
}
