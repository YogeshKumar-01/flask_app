{
 "cells": [
  {
   "cell_type": "code",
   "execution_count": 1,
   "id": "726c3b21-9fab-41ad-bc81-84384761f538",
   "metadata": {},
   "outputs": [],
   "source": [
    "class test:\n",
    "\n",
    "    def test_meth(self):\n",
    "        return 'This is my first class'"
   ]
  },
  {
   "cell_type": "code",
   "execution_count": 2,
   "id": "99e2ee1b-79bd-427c-86ca-bd21ee2ff1c8",
   "metadata": {},
   "outputs": [],
   "source": [
    "class child_test(test) :\n",
    "    pass"
   ]
  },
  {
   "cell_type": "code",
   "execution_count": 3,
   "id": "40835837-1c33-4f28-8524-6408d4fbeece",
   "metadata": {},
   "outputs": [],
   "source": [
    "child_test_obj = child_test()"
   ]
  },
  {
   "cell_type": "code",
   "execution_count": 5,
   "id": "8194e0ed-e31e-40c2-b69b-996d569ed770",
   "metadata": {},
   "outputs": [
    {
     "data": {
      "text/plain": [
       "'This is my first class'"
      ]
     },
     "execution_count": 5,
     "metadata": {},
     "output_type": "execute_result"
    }
   ],
   "source": [
    "child_test_obj.test_meth()"
   ]
  },
  {
   "cell_type": "code",
   "execution_count": 19,
   "id": "f26a47bc-37ff-46d4-a74a-25c7f0868641",
   "metadata": {},
   "outputs": [],
   "source": [
    "class class1:\n",
    "    def test_class1(self):\n",
    "        return 'this is a meth from class1'"
   ]
  },
  {
   "cell_type": "code",
   "execution_count": 25,
   "id": "56178236-a94a-414c-a092-0e0c887c7b79",
   "metadata": {},
   "outputs": [],
   "source": [
    "class class2(class1):\n",
    "    def test_class2( class1):\n",
    "        return 'this is a meth from class2'"
   ]
  },
  {
   "cell_type": "code",
   "execution_count": 26,
   "id": "fcd7dab4-ceef-402c-98c4-a75c3f8674af",
   "metadata": {},
   "outputs": [],
   "source": [
    "class class3( class2):\n",
    "    pass"
   ]
  },
  {
   "cell_type": "code",
   "execution_count": 27,
   "id": "7e068136-a289-4f09-aae8-d7700548e659",
   "metadata": {},
   "outputs": [],
   "source": [
    "obj_class3 = class3()"
   ]
  },
  {
   "cell_type": "code",
   "execution_count": 28,
   "id": "95d03b72-2c71-4b93-ae2a-03f0e6f62f90",
   "metadata": {},
   "outputs": [
    {
     "data": {
      "text/plain": [
       "'this is a meth from class1'"
      ]
     },
     "execution_count": 28,
     "metadata": {},
     "output_type": "execute_result"
    }
   ],
   "source": [
    "obj_class3.test_class1()"
   ]
  },
  {
   "cell_type": "code",
   "execution_count": 29,
   "id": "8da7a96a-ac9c-4a06-959a-0cea0aa713be",
   "metadata": {},
   "outputs": [
    {
     "data": {
      "text/plain": [
       "'this is a meth from class2'"
      ]
     },
     "execution_count": 29,
     "metadata": {},
     "output_type": "execute_result"
    }
   ],
   "source": [
    "obj_class3.test_class2()"
   ]
  },
  {
   "cell_type": "code",
   "execution_count": 41,
   "id": "94ddb801-0ad1-416a-82df-e321ad80e2d9",
   "metadata": {},
   "outputs": [],
   "source": [
    "class class1:\n",
    "\n",
    "    def test_class1(self):\n",
    "        return 'This is a class1'"
   ]
  },
  {
   "cell_type": "code",
   "execution_count": 42,
   "id": "597de2c1-d039-413e-b40b-ce9b61e39a34",
   "metadata": {},
   "outputs": [],
   "source": [
    "class class2:\n",
    "    def test_class2(self):\n",
    "        return 'This is a class2'"
   ]
  },
  {
   "cell_type": "code",
   "execution_count": 43,
   "id": "bcdd3502-dfff-4a37-b90c-2e642f6d6ee1",
   "metadata": {},
   "outputs": [],
   "source": [
    "class class3(class1,class2):\n",
    "    pass"
   ]
  },
  {
   "cell_type": "code",
   "execution_count": 44,
   "id": "b4039129-382e-447c-b1cf-d38f37f283a3",
   "metadata": {},
   "outputs": [],
   "source": [
    "obj_class3 = class3()"
   ]
  },
  {
   "cell_type": "code",
   "execution_count": 45,
   "id": "277659a9-1f68-4fe2-a01a-de8ef922caa2",
   "metadata": {},
   "outputs": [
    {
     "data": {
      "text/plain": [
       "'This is a class1'"
      ]
     },
     "execution_count": 45,
     "metadata": {},
     "output_type": "execute_result"
    }
   ],
   "source": [
    "obj_class3.test_class1()"
   ]
  },
  {
   "cell_type": "code",
   "execution_count": 46,
   "id": "94d0a2e8-17a2-48f3-bf43-23111554ed07",
   "metadata": {},
   "outputs": [
    {
     "data": {
      "text/plain": [
       "'This is a class2'"
      ]
     },
     "execution_count": 46,
     "metadata": {},
     "output_type": "execute_result"
    }
   ],
   "source": [
    "obj_class3.test_class2()"
   ]
  },
  {
   "cell_type": "code",
   "execution_count": null,
   "id": "efad940c-d944-4dc1-976e-af47a38bac6c",
   "metadata": {},
   "outputs": [],
   "source": []
  },
  {
   "cell_type": "code",
   "execution_count": null,
   "id": "52cdd563-8820-4456-9694-ef4ab3552031",
   "metadata": {},
   "outputs": [],
   "source": []
  },
  {
   "cell_type": "code",
   "execution_count": null,
   "id": "de9b2bf2-fee6-4143-8e92-611b869a7ef4",
   "metadata": {},
   "outputs": [],
   "source": []
  },
  {
   "cell_type": "code",
   "execution_count": null,
   "id": "a086dc74-4b39-41d9-be59-2b868986504b",
   "metadata": {},
   "outputs": [],
   "source": []
  },
  {
   "cell_type": "code",
   "execution_count": null,
   "id": "2875fbd5-717b-4629-9570-26f8de6e1a29",
   "metadata": {},
   "outputs": [],
   "source": []
  }
 ],
 "metadata": {
  "kernelspec": {
   "display_name": "Python 3 (ipykernel)",
   "language": "python",
   "name": "python3"
  },
  "language_info": {
   "codemirror_mode": {
    "name": "ipython",
    "version": 3
   },
   "file_extension": ".py",
   "mimetype": "text/x-python",
   "name": "python",
   "nbconvert_exporter": "python",
   "pygments_lexer": "ipython3",
   "version": "3.11.7"
  },
  "widgets": {
   "application/vnd.jupyter.widget-state+json": {
    "state": {},
    "version_major": 2,
    "version_minor": 0
   }
  }
 },
 "nbformat": 4,
 "nbformat_minor": 5
}
