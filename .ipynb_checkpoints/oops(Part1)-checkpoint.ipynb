{
 "cells": [
  {
   "cell_type": "code",
   "execution_count": 99,
   "id": "10e42f4f-f620-4229-8d68-b1a4b3f40011",
   "metadata": {},
   "outputs": [],
   "source": [
    " a = 1"
   ]
  },
  {
   "cell_type": "code",
   "execution_count": 100,
   "id": "57da1fac-5dca-4ada-b2c7-80cd681ee487",
   "metadata": {},
   "outputs": [
    {
     "name": "stdout",
     "output_type": "stream",
     "text": [
      "<class 'int'>\n"
     ]
    }
   ],
   "source": [
    "print(type(a))"
   ]
  },
  {
   "cell_type": "code",
   "execution_count": 101,
   "id": "e827fb3a-7925-426b-a613-0b2399db0355",
   "metadata": {},
   "outputs": [
    {
     "name": "stdout",
     "output_type": "stream",
     "text": [
      "<class 'str'>\n"
     ]
    }
   ],
   "source": [
    "print(type('pwskills'))"
   ]
  },
  {
   "cell_type": "code",
   "execution_count": 102,
   "id": "3808cca3-8e30-4172-b358-7144317d3a50",
   "metadata": {},
   "outputs": [],
   "source": [
    "class test:\n",
    "    pass"
   ]
  },
  {
   "cell_type": "code",
   "execution_count": 103,
   "id": "8d63a0c9-53b8-42d5-827a-1b35e48cb045",
   "metadata": {},
   "outputs": [
    {
     "data": {
      "text/plain": [
       "type"
      ]
     },
     "execution_count": 103,
     "metadata": {},
     "output_type": "execute_result"
    }
   ],
   "source": [
    "type(test)"
   ]
  },
  {
   "cell_type": "code",
   "execution_count": 104,
   "id": "12d192a6-71b8-4f2d-a0fa-9a78def28358",
   "metadata": {},
   "outputs": [],
   "source": [
    "a = test() "
   ]
  },
  {
   "cell_type": "code",
   "execution_count": 105,
   "id": "7e7dae9e-9aa6-4d07-bfdd-2ffdd365d794",
   "metadata": {},
   "outputs": [
    {
     "data": {
      "text/plain": [
       "__main__.test"
      ]
     },
     "execution_count": 105,
     "metadata": {},
     "output_type": "execute_result"
    }
   ],
   "source": [
    "type(a)"
   ]
  },
  {
   "cell_type": "code",
   "execution_count": 106,
   "id": "0798c515-92f0-4b4d-a3c3-a224a0b55820",
   "metadata": {},
   "outputs": [
    {
     "name": "stdout",
     "output_type": "stream",
     "text": [
      "<class '__main__.test'>\n"
     ]
    }
   ],
   "source": [
    "print(type(a))"
   ]
  },
  {
   "cell_type": "code",
   "execution_count": 107,
   "id": "19dc70e3-554b-40a0-a18f-ba71abc3631b",
   "metadata": {},
   "outputs": [],
   "source": [
    "class pwskills:\n",
    "    def welcome_msg(self):\n",
    "        print(\"welcome to pwskills\")"
   ]
  },
  {
   "cell_type": "code",
   "execution_count": 108,
   "id": "f8ecd77a-4fac-4abc-af39-b162b3d23473",
   "metadata": {},
   "outputs": [],
   "source": [
    "rohan = pwskills()"
   ]
  },
  {
   "cell_type": "code",
   "execution_count": 109,
   "id": "bc2c87e7-13e3-4aaf-a6d6-7c0a9f38d0d4",
   "metadata": {},
   "outputs": [
    {
     "name": "stdout",
     "output_type": "stream",
     "text": [
      "<class '__main__.pwskills'>\n"
     ]
    }
   ],
   "source": [
    "print(type(rohan))"
   ]
  },
  {
   "cell_type": "code",
   "execution_count": 110,
   "id": "f76bb687-90a3-4be4-b49f-5700f9cb6af4",
   "metadata": {},
   "outputs": [
    {
     "name": "stdout",
     "output_type": "stream",
     "text": [
      "welcome to pwskills\n"
     ]
    }
   ],
   "source": [
    "rohan.welcome_msg()"
   ]
  },
  {
   "cell_type": "code",
   "execution_count": 111,
   "id": "598bc582-4368-4c91-a603-32520185cbd4",
   "metadata": {},
   "outputs": [],
   "source": [
    "gaurav = pwskills()"
   ]
  },
  {
   "cell_type": "code",
   "execution_count": 112,
   "id": "467cf01a-d7c5-4e9c-a497-ce82e890a035",
   "metadata": {},
   "outputs": [
    {
     "name": "stdout",
     "output_type": "stream",
     "text": [
      "welcome to pwskills\n"
     ]
    }
   ],
   "source": [
    "gaurav.welcome_msg()"
   ]
  },
  {
   "cell_type": "code",
   "execution_count": 113,
   "id": "f636da9f-2d94-4e47-be31-d2ab3bd1474c",
   "metadata": {},
   "outputs": [],
   "source": [
    "class pwskills1 :\n",
    "\n",
    "    def __init__(self, phone_number, email_id, student_id):\n",
    "        self.phone_number = phone_number\n",
    "        self.email_id = email_id\n",
    "        self.student_id = student_id\n",
    "\n",
    "\n",
    "    def return_student_details(self):\n",
    "        return self.student_id, self.phone_number, self.email_id\n",
    "    "
   ]
  },
  {
   "cell_type": "code",
   "execution_count": null,
   "id": "8d6cc4a8-de00-4bc5-89a5-588ee4950d0e",
   "metadata": {},
   "outputs": [],
   "source": []
  },
  {
   "cell_type": "raw",
   "id": "8b8cc56f-d5bc-4493-aea0-1b0849a936e4",
   "metadata": {},
   "source": []
  },
  {
   "cell_type": "code",
   "execution_count": 114,
   "id": "ba41f41c-799a-4e8b-b412-1506dcc29e85",
   "metadata": {},
   "outputs": [],
   "source": [
    "rohan = pwskills1(302632362632,\"sfsgsa\",101)"
   ]
  },
  {
   "cell_type": "code",
   "execution_count": 115,
   "id": "c6368cf9-2c50-4253-8a81-78c76cc06908",
   "metadata": {},
   "outputs": [
    {
     "data": {
      "text/plain": [
       "(101, 302632362632, 'sfsgsa')"
      ]
     },
     "execution_count": 115,
     "metadata": {},
     "output_type": "execute_result"
    }
   ],
   "source": [
    "rohan.return_student_details()"
   ]
  },
  {
   "cell_type": "code",
   "execution_count": 116,
   "id": "be89ca4b-29b9-4381-b910-e999b66b09cb",
   "metadata": {},
   "outputs": [
    {
     "data": {
      "text/plain": [
       "302632362632"
      ]
     },
     "execution_count": 116,
     "metadata": {},
     "output_type": "execute_result"
    }
   ],
   "source": [
    "rohan.phone_number"
   ]
  },
  {
   "cell_type": "code",
   "execution_count": 117,
   "id": "875f1f24-3120-4d25-9e82-246f751aa3c3",
   "metadata": {},
   "outputs": [],
   "source": [
    "gaurav = pwskills1(985144521,\"gaurav\", 102)"
   ]
  },
  {
   "cell_type": "code",
   "execution_count": 118,
   "id": "e05f7b20-a47e-4729-ac46-35a2852efae6",
   "metadata": {},
   "outputs": [
    {
     "data": {
      "text/plain": [
       "(102, 985144521, 'gaurav')"
      ]
     },
     "execution_count": 118,
     "metadata": {},
     "output_type": "execute_result"
    }
   ],
   "source": [
    "gaurav.return_student_details()"
   ]
  },
  {
   "cell_type": "code",
   "execution_count": 119,
   "id": "a340611e-8653-41d1-9ad8-558f109d46c9",
   "metadata": {},
   "outputs": [
    {
     "data": {
      "text/plain": [
       "'gaurav'"
      ]
     },
     "execution_count": 119,
     "metadata": {},
     "output_type": "execute_result"
    }
   ],
   "source": [
    "gaurav.email_id"
   ]
  },
  {
   "cell_type": "code",
   "execution_count": 124,
   "id": "08d72e8e-b1e4-4a6f-9791-586ea166938e",
   "metadata": {},
   "outputs": [],
   "source": [
    "class pwskills2:\n",
    "    def __init__(self,phone_number, email_id, student_id):\n",
    "        self.phone_number1 = phone_number\n",
    "        self.email_id1 = email_id\n",
    "        self.student_id1 = student_id\n",
    "\n",
    "    def return_student_details(self):\n",
    "        return self.student_id1, self.phone_number1, self.email_id1\n",
    "        "
   ]
  },
  {
   "cell_type": "code",
   "execution_count": 126,
   "id": "cf967e1a-bf9b-4401-bce5-4276fe9e45e1",
   "metadata": {},
   "outputs": [],
   "source": [
    "raju = pwskills2(12345, \"raju@gmail.com\", 102)"
   ]
  },
  {
   "cell_type": "code",
   "execution_count": 127,
   "id": "7ab57d51-97c1-472c-81f1-f531dde6e903",
   "metadata": {},
   "outputs": [
    {
     "data": {
      "text/plain": [
       "12345"
      ]
     },
     "execution_count": 127,
     "metadata": {},
     "output_type": "execute_result"
    }
   ],
   "source": [
    "raju.phone_number1"
   ]
  },
  {
   "cell_type": "code",
   "execution_count": 128,
   "id": "1daec15f-5494-44b5-96c2-1929e80f6061",
   "metadata": {},
   "outputs": [
    {
     "data": {
      "text/plain": [
       "(102, 12345, 'raju@gmail.com')"
      ]
     },
     "execution_count": 128,
     "metadata": {},
     "output_type": "execute_result"
    }
   ],
   "source": [
    "raju.return_student_details()"
   ]
  },
  {
   "cell_type": "code",
   "execution_count": null,
   "id": "755f9f75-25a7-4288-81c2-4de8d4c9e997",
   "metadata": {},
   "outputs": [],
   "source": []
  },
  {
   "cell_type": "code",
   "execution_count": 133,
   "id": "357c6718-f012-466a-ac33-03a881767c7c",
   "metadata": {},
   "outputs": [],
   "source": [
    "class pwskills:\n",
    "    def __init__(ram, phone_number, email_id, student_id):\n",
    "        ram.phone_number2 = phone_number\n",
    "        ram.email_id2 = email_id\n",
    "        ram.student_id2 = student_id\n",
    "    \n",
    "    def return_student_details(ram):\n",
    "        return ram.phone_number2, ram.email_id2, ram.student_id2"
   ]
  },
  {
   "cell_type": "code",
   "execution_count": 135,
   "id": "54c8a72a-459e-41b5-9562-f443f85d6baa",
   "metadata": {},
   "outputs": [],
   "source": [
    "ram = pwskills(123456, \"ram@gmail.com\", 1023)"
   ]
  },
  {
   "cell_type": "code",
   "execution_count": 137,
   "id": "57bd3576-5c8d-4843-b73a-d6372486105e",
   "metadata": {},
   "outputs": [
    {
     "data": {
      "text/plain": [
       "123456"
      ]
     },
     "execution_count": 137,
     "metadata": {},
     "output_type": "execute_result"
    }
   ],
   "source": [
    "ram.phone_number2"
   ]
  },
  {
   "cell_type": "code",
   "execution_count": 138,
   "id": "3d752b8f-ec65-4b22-8339-2760b63a9d22",
   "metadata": {},
   "outputs": [
    {
     "data": {
      "text/plain": [
       "(123456, 'ram@gmail.com', 1023)"
      ]
     },
     "execution_count": 138,
     "metadata": {},
     "output_type": "execute_result"
    }
   ],
   "source": [
    "ram.return_student_details()"
   ]
  },
  {
   "cell_type": "code",
   "execution_count": null,
   "id": "3db97fea-20ce-4c56-b6d2-d1c469906600",
   "metadata": {},
   "outputs": [],
   "source": []
  },
  {
   "cell_type": "code",
   "execution_count": null,
   "id": "eab207a1-fefc-4956-9004-983524268a5b",
   "metadata": {},
   "outputs": [],
   "source": []
  },
  {
   "cell_type": "code",
   "execution_count": null,
   "id": "b88dca95-c289-4160-b24b-08dcc1a446e1",
   "metadata": {},
   "outputs": [],
   "source": []
  },
  {
   "cell_type": "code",
   "execution_count": null,
   "id": "58c39a96-6f09-4307-9a9e-8ced2de40b44",
   "metadata": {},
   "outputs": [],
   "source": []
  },
  {
   "cell_type": "code",
   "execution_count": null,
   "id": "5ae8ffc4-88cc-4bcd-9b37-603181148b19",
   "metadata": {},
   "outputs": [],
   "source": []
  },
  {
   "cell_type": "code",
   "execution_count": null,
   "id": "37c21509-2d2b-47ab-8b07-53954bdec0d7",
   "metadata": {},
   "outputs": [],
   "source": []
  }
 ],
 "metadata": {
  "kernelspec": {
   "display_name": "Python 3 (ipykernel)",
   "language": "python",
   "name": "python3"
  },
  "language_info": {
   "codemirror_mode": {
    "name": "ipython",
    "version": 3
   },
   "file_extension": ".py",
   "mimetype": "text/x-python",
   "name": "python",
   "nbconvert_exporter": "python",
   "pygments_lexer": "ipython3",
   "version": "3.11.7"
  },
  "widgets": {
   "application/vnd.jupyter.widget-state+json": {
    "state": {},
    "version_major": 2,
    "version_minor": 0
   }
  }
 },
 "nbformat": 4,
 "nbformat_minor": 5
}
