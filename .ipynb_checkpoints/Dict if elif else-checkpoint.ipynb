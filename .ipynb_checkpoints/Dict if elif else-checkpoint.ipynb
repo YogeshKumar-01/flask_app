{
 "cells": [
  {
   "cell_type": "code",
   "execution_count": 1,
   "id": "4db8832b-342b-4479-a5d0-237ee2ef2092",
   "metadata": {},
   "outputs": [],
   "source": [
    "d = {}"
   ]
  },
  {
   "cell_type": "code",
   "execution_count": 3,
   "id": "fede415e-e9f5-45ab-b1f1-9868131eee74",
   "metadata": {},
   "outputs": [
    {
     "data": {
      "text/plain": [
       "dict"
      ]
     },
     "execution_count": 3,
     "metadata": {},
     "output_type": "execute_result"
    }
   ],
   "source": [
    "type(d)"
   ]
  },
  {
   "cell_type": "code",
   "execution_count": 4,
   "id": "d6e79023-d760-4180-9865-be31aaa0e215",
   "metadata": {},
   "outputs": [],
   "source": [
    "d1 = {'Key' : \"Yogesh\"}"
   ]
  },
  {
   "cell_type": "code",
   "execution_count": 7,
   "id": "3030cb89-4240-4ad0-be95-d71dfaee87cd",
   "metadata": {},
   "outputs": [
    {
     "data": {
      "text/plain": [
       "{'Key': 'Yogesh'}"
      ]
     },
     "execution_count": 7,
     "metadata": {},
     "output_type": "execute_result"
    }
   ],
   "source": [
    "d1"
   ]
  },
  {
   "cell_type": "code",
   "execution_count": 9,
   "id": "1f2f37ac-5ffb-47fe-9614-4bad847b2683",
   "metadata": {},
   "outputs": [],
   "source": [
    "d2 = {'name': 'Yogesh', 'email': 'yogesh@gmail.com', 'number':'789456'}"
   ]
  },
  {
   "cell_type": "code",
   "execution_count": 11,
   "id": "1e630569-4e9a-4fb2-86ec-cc637b1bab33",
   "metadata": {},
   "outputs": [
    {
     "data": {
      "text/plain": [
       "{'name': 'Yogesh', 'email': 'yogesh@gmail.com', 'number': '789456'}"
      ]
     },
     "execution_count": 11,
     "metadata": {},
     "output_type": "execute_result"
    }
   ],
   "source": [
    "d2"
   ]
  },
  {
   "cell_type": "code",
   "execution_count": 14,
   "id": "c8ce20ac-23db-4a4b-8e4c-b9f1544bf748",
   "metadata": {},
   "outputs": [
    {
     "data": {
      "text/plain": [
       "'Yogesh'"
      ]
     },
     "execution_count": 14,
     "metadata": {},
     "output_type": "execute_result"
    }
   ],
   "source": [
    "d2['name']"
   ]
  },
  {
   "cell_type": "code",
   "execution_count": 16,
   "id": "013077c2-ab28-40cf-993c-31cb8607fd47",
   "metadata": {},
   "outputs": [],
   "source": [
    "d3 = {'name':'yogesh','mail_id':'yk@gmail.com','name':'yogi'}"
   ]
  },
  {
   "cell_type": "code",
   "execution_count": 18,
   "id": "a870151d-ec38-4cdf-a5a6-6b2a3b877488",
   "metadata": {},
   "outputs": [
    {
     "data": {
      "text/plain": [
       "'yogi'"
      ]
     },
     "execution_count": 18,
     "metadata": {},
     "output_type": "execute_result"
    }
   ],
   "source": [
    "d3['name']"
   ]
  },
  {
   "cell_type": "code",
   "execution_count": 20,
   "id": "1bb499b9-e93b-4d64-9e04-9dbb69d20f09",
   "metadata": {},
   "outputs": [],
   "source": [
    "d4 = {'assignment':(1,2,3,4,5), 'lunch_date':{12,14,11}, 'class_time':{'web_dev':8, 'Data science master':8, 'java with dsa and system design': 7}}"
   ]
  },
  {
   "cell_type": "code",
   "execution_count": 22,
   "id": "78923003-d69c-4f48-9a7e-49b672dbbd11",
   "metadata": {},
   "outputs": [
    {
     "data": {
      "text/plain": [
       "{'assignment': (1, 2, 3, 4, 5),\n",
       " 'lunch_date': {11, 12, 14},\n",
       " 'class_time': {'web_dev': 8,\n",
       "  'Data science master': 8,\n",
       "  'java with dsa and system design': 7}}"
      ]
     },
     "execution_count": 22,
     "metadata": {},
     "output_type": "execute_result"
    }
   ],
   "source": [
    "d4"
   ]
  },
  {
   "cell_type": "code",
   "execution_count": 24,
   "id": "38dd28eb-6342-4b0f-8dea-e98881359cee",
   "metadata": {},
   "outputs": [],
   "source": [
    "d4['mentor'] = ['sudhanshu', 'krish', 'anurag', 'hayder']"
   ]
  },
  {
   "cell_type": "code",
   "execution_count": 26,
   "id": "3a79d1fb-a33a-4070-9073-535963325c24",
   "metadata": {},
   "outputs": [
    {
     "data": {
      "text/plain": [
       "{'assignment': (1, 2, 3, 4, 5),\n",
       " 'lunch_date': {11, 12, 14},\n",
       " 'class_time': {'web_dev': 8,\n",
       "  'Data science master': 8,\n",
       "  'java with dsa and system design': 7},\n",
       " 'mentor': ['sudhanshu', 'krish', 'anurag', 'hayder']}"
      ]
     },
     "execution_count": 26,
     "metadata": {},
     "output_type": "execute_result"
    }
   ],
   "source": [
    "d4"
   ]
  },
  {
   "cell_type": "code",
   "execution_count": 27,
   "id": "14d0bbfc-209a-447c-9611-ab3b770f2c5c",
   "metadata": {},
   "outputs": [],
   "source": [
    "d4['number'] = [2,34,4,34,2]"
   ]
  },
  {
   "cell_type": "code",
   "execution_count": 29,
   "id": "3bebc37e-ccda-4995-89fc-5df70231140d",
   "metadata": {},
   "outputs": [
    {
     "data": {
      "text/plain": [
       "{'assignment': (1, 2, 3, 4, 5),\n",
       " 'lunch_date': {11, 12, 14},\n",
       " 'class_time': {'web_dev': 8,\n",
       "  'Data science master': 8,\n",
       "  'java with dsa and system design': 7},\n",
       " 'mentor': ['sudhanshu', 'krish', 'anurag', 'hayder'],\n",
       " 'number': [2, 34, 4, 34, 2]}"
      ]
     },
     "execution_count": 29,
     "metadata": {},
     "output_type": "execute_result"
    }
   ],
   "source": [
    "d4"
   ]
  },
  {
   "cell_type": "code",
   "execution_count": 33,
   "id": "03e85d6d-eef9-4c55-94a7-85bf50def0b9",
   "metadata": {},
   "outputs": [
    {
     "ename": "KeyError",
     "evalue": "'number'",
     "output_type": "error",
     "traceback": [
      "\u001b[1;31m---------------------------------------------------------------------------\u001b[0m",
      "\u001b[1;31mKeyError\u001b[0m                                  Traceback (most recent call last)",
      "Cell \u001b[1;32mIn[33], line 1\u001b[0m\n\u001b[1;32m----> 1\u001b[0m \u001b[38;5;28;01mdel\u001b[39;00m d4[\u001b[38;5;124m'\u001b[39m\u001b[38;5;124mnumber\u001b[39m\u001b[38;5;124m'\u001b[39m]\n",
      "\u001b[1;31mKeyError\u001b[0m: 'number'"
     ]
    }
   ],
   "source": [
    "del d4['number']"
   ]
  },
  {
   "cell_type": "code",
   "execution_count": 35,
   "id": "af0eada3-861b-4bff-8346-e46ce80f95b3",
   "metadata": {},
   "outputs": [
    {
     "data": {
      "text/plain": [
       "{'assignment': (1, 2, 3, 4, 5),\n",
       " 'lunch_date': {11, 12, 14},\n",
       " 'class_time': {'web_dev': 8,\n",
       "  'Data science master': 8,\n",
       "  'java with dsa and system design': 7},\n",
       " 'mentor': ['sudhanshu', 'krish', 'anurag', 'hayder']}"
      ]
     },
     "execution_count": 35,
     "metadata": {},
     "output_type": "execute_result"
    }
   ],
   "source": [
    "d4"
   ]
  },
  {
   "cell_type": "code",
   "execution_count": 38,
   "id": "f1467b33-dcc2-4bc8-8c07-444bbeac8c10",
   "metadata": {},
   "outputs": [
    {
     "data": {
      "text/plain": [
       "['assignment', 'lunch_date', 'class_time', 'mentor']"
      ]
     },
     "execution_count": 38,
     "metadata": {},
     "output_type": "execute_result"
    }
   ],
   "source": [
    "list(d4.keys())"
   ]
  },
  {
   "cell_type": "code",
   "execution_count": 40,
   "id": "468d97d2-62c2-4d67-868b-78658b7ea9ce",
   "metadata": {},
   "outputs": [
    {
     "data": {
      "text/plain": [
       "[(1, 2, 3, 4, 5),\n",
       " {11, 12, 14},\n",
       " {'web_dev': 8,\n",
       "  'Data science master': 8,\n",
       "  'java with dsa and system design': 7},\n",
       " ['sudhanshu', 'krish', 'anurag', 'hayder']]"
      ]
     },
     "execution_count": 40,
     "metadata": {},
     "output_type": "execute_result"
    }
   ],
   "source": [
    "list(d4.values())"
   ]
  },
  {
   "cell_type": "code",
   "execution_count": 43,
   "id": "126b8eb7-604b-4a2b-8a92-0591f662d9e3",
   "metadata": {},
   "outputs": [
    {
     "data": {
      "text/plain": [
       "[('assignment', (1, 2, 3, 4, 5)),\n",
       " ('lunch_date', {11, 12, 14}),\n",
       " ('class_time',\n",
       "  {'web_dev': 8,\n",
       "   'Data science master': 8,\n",
       "   'java with dsa and system design': 7}),\n",
       " ('mentor', ['sudhanshu', 'krish', 'anurag', 'hayder'])]"
      ]
     },
     "execution_count": 43,
     "metadata": {},
     "output_type": "execute_result"
    }
   ],
   "source": [
    "list(d4.items())"
   ]
  },
  {
   "cell_type": "code",
   "execution_count": 45,
   "id": "80bddead-5e33-4883-8b68-5317deaaaa62",
   "metadata": {},
   "outputs": [
    {
     "ename": "KeyError",
     "evalue": "'assignment'",
     "output_type": "error",
     "traceback": [
      "\u001b[1;31m---------------------------------------------------------------------------\u001b[0m",
      "\u001b[1;31mKeyError\u001b[0m                                  Traceback (most recent call last)",
      "Cell \u001b[1;32mIn[45], line 1\u001b[0m\n\u001b[1;32m----> 1\u001b[0m d4\u001b[38;5;241m.\u001b[39mpop(\u001b[38;5;124m'\u001b[39m\u001b[38;5;124massignment\u001b[39m\u001b[38;5;124m'\u001b[39m)\n",
      "\u001b[1;31mKeyError\u001b[0m: 'assignment'"
     ]
    }
   ],
   "source": [
    "d4.pop('assignment')"
   ]
  },
  {
   "cell_type": "code",
   "execution_count": 47,
   "id": "e4b7476e-f719-405c-ae79-c2df684bdb26",
   "metadata": {},
   "outputs": [
    {
     "data": {
      "text/plain": [
       "{'lunch_date': {11, 12, 14},\n",
       " 'class_time': {'web_dev': 8,\n",
       "  'Data science master': 8,\n",
       "  'java with dsa and system design': 7},\n",
       " 'mentor': ['sudhanshu', 'krish', 'anurag', 'hayder']}"
      ]
     },
     "execution_count": 47,
     "metadata": {},
     "output_type": "execute_result"
    }
   ],
   "source": [
    "d4"
   ]
  },
  {
   "cell_type": "code",
   "execution_count": 48,
   "id": "abc03e55-7f6a-43f2-ac41-f2bc3096c237",
   "metadata": {},
   "outputs": [
    {
     "ename": "TypeError",
     "evalue": "pop expected at least 1 argument, got 0",
     "output_type": "error",
     "traceback": [
      "\u001b[1;31m---------------------------------------------------------------------------\u001b[0m",
      "\u001b[1;31mTypeError\u001b[0m                                 Traceback (most recent call last)",
      "Cell \u001b[1;32mIn[48], line 1\u001b[0m\n\u001b[1;32m----> 1\u001b[0m d4\u001b[38;5;241m.\u001b[39mpop()\n",
      "\u001b[1;31mTypeError\u001b[0m: pop expected at least 1 argument, got 0"
     ]
    }
   ],
   "source": [
    "d4.pop()"
   ]
  },
  {
   "cell_type": "code",
   "execution_count": 49,
   "id": "0796ab1e-7150-4b4c-b35b-b99cf1d8772d",
   "metadata": {},
   "outputs": [],
   "source": [
    "l = [1,2,3,4,5,6,7]"
   ]
  },
  {
   "cell_type": "code",
   "execution_count": 55,
   "id": "03f8f484-950d-4e63-917d-b4ab004f76c3",
   "metadata": {},
   "outputs": [
    {
     "data": {
      "text/plain": [
       "[2, 3, 4, 5, 6, 7, 8]"
      ]
     },
     "execution_count": 55,
     "metadata": {},
     "output_type": "execute_result"
    }
   ],
   "source": [
    "l1 = []\n",
    "for i in l:\n",
    "    l1.append(i+1)\n",
    "l1"
   ]
  },
  {
   "cell_type": "code",
   "execution_count": 53,
   "id": "0d81b7cb-ec06-4b38-9429-95423d970efd",
   "metadata": {},
   "outputs": [
    {
     "data": {
      "text/plain": [
       "[2, 3, 4, 5, 6, 7, 8]"
      ]
     },
     "execution_count": 53,
     "metadata": {},
     "output_type": "execute_result"
    }
   ],
   "source": [
    "l1 "
   ]
  },
  {
   "cell_type": "code",
   "execution_count": 56,
   "id": "cac2fa4c-2131-490f-b395-2d12946fb641",
   "metadata": {},
   "outputs": [],
   "source": [
    "l.extend(l1)"
   ]
  },
  {
   "cell_type": "code",
   "execution_count": 57,
   "id": "6034be71-6e29-433b-b3fc-a0714d24e09b",
   "metadata": {},
   "outputs": [
    {
     "data": {
      "text/plain": [
       "[1, 2, 3, 4, 5, 6, 7, 2, 3, 4, 5, 6, 7, 8]"
      ]
     },
     "execution_count": 57,
     "metadata": {},
     "output_type": "execute_result"
    }
   ],
   "source": [
    "l"
   ]
  },
  {
   "cell_type": "code",
   "execution_count": 91,
   "id": "9bdf120c-be9b-4850-adb0-1335f06ab66e",
   "metadata": {},
   "outputs": [
    {
     "data": {
      "text/plain": [
       "['SUDH', 'KUMAR', 'PWSKILLS', 'COURSE']"
      ]
     },
     "execution_count": 91,
     "metadata": {},
     "output_type": "execute_result"
    }
   ],
   "source": [
    "l = ['sudh','kumar','pwskills','course']\n",
    "l1 = []\n",
    "for i in l:\n",
    "    l1.append(i.upper())\n",
    "l.clear()\n",
    "l.extend(l1)\n",
    "\n",
    "l\n",
    "\n"
   ]
  },
  {
   "cell_type": "code",
   "execution_count": 8,
   "id": "dcdebec8-ef60-4b8e-9852-81dd55ad2d9b",
   "metadata": {},
   "outputs": [
    {
     "data": {
      "text/plain": [
       "([1, 2, 3, 4, 324, 34], ['sudh', 'kumar', 'abc'])"
      ]
     },
     "execution_count": 8,
     "metadata": {},
     "output_type": "execute_result"
    }
   ],
   "source": [
    "l = [1,2,3,4,'sudh','kumar',324,34,'abc']\n",
    "l1 = []\n",
    "l2 = []\n",
    "for i in l:\n",
    "    if type(i) == int:\n",
    "        l1.append(i)\n",
    "    else:\n",
    "        l2.append(i)\n",
    "l1,l2\n"
   ]
  },
  {
   "cell_type": "code",
   "execution_count": 105,
   "id": "1ca648e5-6d2a-4c6a-9845-5091c16af595",
   "metadata": {},
   "outputs": [
    {
     "name": "stdout",
     "output_type": "stream",
     "text": [
      "True\n"
     ]
    }
   ],
   "source": [
    "s = \"slfndjsfn\"\n",
    "print(s.isalpha())"
   ]
  }
 ],
 "metadata": {
  "kernelspec": {
   "display_name": "Python 3 (ipykernel)",
   "language": "python",
   "name": "python3"
  },
  "language_info": {
   "codemirror_mode": {
    "name": "ipython",
    "version": 3
   },
   "file_extension": ".py",
   "mimetype": "text/x-python",
   "name": "python",
   "nbconvert_exporter": "python",
   "pygments_lexer": "ipython3",
   "version": "3.11.7"
  }
 },
 "nbformat": 4,
 "nbformat_minor": 5
}
