{
 "cells": [
  {
   "cell_type": "code",
   "execution_count": 1,
   "id": "5251854e-89e9-4d90-818b-9973598f5ac4",
   "metadata": {},
   "outputs": [
    {
     "name": "stdout",
     "output_type": "stream",
     "text": [
      "1\n",
      "2\n",
      "3\n",
      "4\n",
      "5\n",
      "6\n",
      "7\n",
      "8\n",
      "9\n",
      "10\n"
     ]
    }
   ],
   "source": [
    "a = 1\n",
    "\n",
    "while a<=10:\n",
    "    print(a)\n",
    "    a = a+1"
   ]
  },
  {
   "cell_type": "markdown",
   "id": "fa9178fa-e311-49e5-90d9-dbb2464945c5",
   "metadata": {},
   "source": [
    "# sum up the number till some point"
   ]
  },
  {
   "cell_type": "code",
   "execution_count": 1,
   "id": "f8000a2a-3f8b-4f63-8e7f-f1e6c237d039",
   "metadata": {},
   "outputs": [
    {
     "name": "stdin",
     "output_type": "stream",
     "text": [
      "enter your limit 5\n"
     ]
    },
    {
     "data": {
      "text/plain": [
       "15"
      ]
     },
     "execution_count": 1,
     "metadata": {},
     "output_type": "execute_result"
    }
   ],
   "source": [
    "n = int(input(\"enter your limit\"))\n",
    "sum = 0\n",
    "counter = 1\n",
    "\n",
    "while counter <= n:\n",
    "    sum = sum+counter\n",
    "    counter = counter + 1\n",
    "sum"
   ]
  },
  {
   "cell_type": "code",
   "execution_count": 2,
   "id": "1e97f962-b521-4140-8f6b-4a694c5e3f78",
   "metadata": {},
   "outputs": [
    {
     "name": "stdin",
     "output_type": "stream",
     "text": [
      "enter your number  5\n"
     ]
    },
    {
     "data": {
      "text/plain": [
       "120"
      ]
     },
     "execution_count": 2,
     "metadata": {},
     "output_type": "execute_result"
    }
   ],
   "source": [
    "number = int(input(\"enter your number \"))\n",
    "factorial = 1\n",
    "while number > 0:\n",
    "    factorial = factorial * number\n",
    "    number = number - 1\n",
    "factorial"
   ]
  },
  {
   "cell_type": "code",
   "execution_count": null,
   "id": "063d533e-a4e1-4788-9dd7-72cc544c099b",
   "metadata": {},
   "outputs": [],
   "source": [
    "# fibonacci series\n"
   ]
  },
  {
   "cell_type": "code",
   "execution_count": 3,
   "id": "3f6d19d5-3e0f-4680-a9f7-c05f6cbae1a4",
   "metadata": {},
   "outputs": [
    {
     "name": "stdin",
     "output_type": "stream",
     "text": [
      "Enter the number of element you are looking for 5\n"
     ]
    },
    {
     "name": "stdout",
     "output_type": "stream",
     "text": [
      "0\n",
      "1\n",
      "1\n",
      "2\n",
      "3\n"
     ]
    }
   ],
   "source": [
    "number = int(input(\"Enter the number of element you are looking for\"))\n",
    "a , b = 0, 1\n",
    "counter = 0\n",
    "while counter < number:\n",
    "    print(a)\n",
    "    c = a+b\n",
    "    a = b\n",
    "    b= c\n",
    "    counter = counter + 1\n"
   ]
  },
  {
   "cell_type": "code",
   "execution_count": 4,
   "id": "9c92558e-f1fb-40f3-a0a4-c302ac9c61f7",
   "metadata": {},
   "outputs": [
    {
     "name": "stdout",
     "output_type": "stream",
     "text": [
      "0\n",
      "1\n",
      "1\n",
      "2\n",
      "3\n",
      "5\n",
      "8\n",
      "13\n",
      "21\n",
      "34\n"
     ]
    }
   ],
   "source": [
    " a, b = 0, 1\n",
    "for i in range(10):\n",
    "    print(a)\n",
    "    c = a+b\n",
    "    a = b\n",
    "    b = c\n",
    "    "
   ]
  },
  {
   "cell_type": "code",
   "execution_count": 5,
   "id": "d57fc881-ed76-45c2-9f12-1cc472e3a363",
   "metadata": {},
   "outputs": [],
   "source": [
    "s = 'sudh'"
   ]
  },
  {
   "cell_type": "code",
   "execution_count": 6,
   "id": "9d472352-507c-43e3-b89e-4377518d9ce6",
   "metadata": {},
   "outputs": [
    {
     "data": {
      "text/plain": [
       "'hdus'"
      ]
     },
     "execution_count": 6,
     "metadata": {},
     "output_type": "execute_result"
    }
   ],
   "source": [
    "s[::-1]"
   ]
  },
  {
   "cell_type": "code",
   "execution_count": 7,
   "id": "f5c27e8c-6408-4997-8115-3bf0332913ff",
   "metadata": {},
   "outputs": [
    {
     "name": "stdin",
     "output_type": "stream",
     "text": [
      "enter your string for reversal 456\n"
     ]
    }
   ],
   "source": [
    "word = input(\"enter your string for reversal\")"
   ]
  },
  {
   "cell_type": "code",
   "execution_count": 8,
   "id": "b0a9ad5f-7818-4ef9-9c99-c3f8cd3acdee",
   "metadata": {},
   "outputs": [
    {
     "name": "stdout",
     "output_type": "stream",
     "text": [
      "654\n"
     ]
    }
   ],
   "source": [
    "reverse = ''\n",
    "length = len(word)\n",
    "while length > 0:\n",
    "    reverse = reverse + word[length - 1]\n",
    "    length = length-1\n",
    "print(reverse)\n",
    "    \n",
    "    "
   ]
  },
  {
   "cell_type": "code",
   "execution_count": 2,
   "id": "a80381a7-e97e-495f-a00d-d3907fa5c7ee",
   "metadata": {},
   "outputs": [
    {
     "name": "stdin",
     "output_type": "stream",
     "text": [
      "enter a number you want to table 5\n"
     ]
    },
    {
     "name": "stdout",
     "output_type": "stream",
     "text": [
      "5 * 1 = 5\n",
      "5 * 2 = 10\n",
      "5 * 3 = 15\n",
      "5 * 4 = 20\n",
      "5 * 5 = 25\n",
      "5 * 6 = 30\n",
      "5 * 7 = 35\n",
      "5 * 8 = 40\n",
      "5 * 9 = 45\n",
      "5 * 10 = 50\n"
     ]
    }
   ],
   "source": [
    "n = int(input(\"enter a number you want to table\"))\n",
    "i = 1\n",
    "\n",
    "while i<=10:\n",
    "    result = n*i\n",
    "    print(n,\"*\",i,'=', result)\n",
    "    i+=1\n"
   ]
  },
  {
   "cell_type": "code",
   "execution_count": 4,
   "id": "8cd46c79-8e48-490a-9141-a8726f7e903d",
   "metadata": {},
   "outputs": [
    {
     "name": "stdout",
     "output_type": "stream",
     "text": [
      "1\n",
      "2\n",
      "3\n",
      "4\n",
      "This will be executed once your while will complete it successfully\n"
     ]
    }
   ],
   "source": [
    "n = 5\n",
    "i = 1\n",
    "while i<n:\n",
    "    print(i)\n",
    "    i+=1\n",
    "else:\n",
    "    print(\"This will be executed once your while will complete it successfully\")"
   ]
  },
  {
   "cell_type": "code",
   "execution_count": 5,
   "id": "c290ee28-caae-4a7a-8a97-73fbdb01dc88",
   "metadata": {},
   "outputs": [
    {
     "name": "stdout",
     "output_type": "stream",
     "text": [
      "1\n",
      "2\n",
      "3\n"
     ]
    }
   ],
   "source": [
    "n = 5\n",
    "i = 1\n",
    "while i<n:\n",
    "    print(i)\n",
    "    if i==3:\n",
    "        break\n",
    "    i+=1\n",
    "else:\n",
    "    print('This will be executed once your while will complete it successfully')\n",
    "             "
   ]
  },
  {
   "cell_type": "code",
   "execution_count": null,
   "id": "083300fd-d4c0-4100-a82c-b74646b9ae6d",
   "metadata": {},
   "outputs": [],
   "source": []
  },
  {
   "cell_type": "code",
   "execution_count": null,
   "id": "73255f69-8d3c-4117-8051-1805c273f61a",
   "metadata": {},
   "outputs": [],
   "source": []
  },
  {
   "cell_type": "code",
   "execution_count": null,
   "id": "937abc50-1047-4e54-93a0-b1afd0b0d5e4",
   "metadata": {},
   "outputs": [],
   "source": []
  },
  {
   "cell_type": "code",
   "execution_count": null,
   "id": "58d93712-cf26-4442-82b7-9e645db034a6",
   "metadata": {},
   "outputs": [],
   "source": []
  }
 ],
 "metadata": {
  "kernelspec": {
   "display_name": "Python 3 (ipykernel)",
   "language": "python",
   "name": "python3"
  },
  "language_info": {
   "codemirror_mode": {
    "name": "ipython",
    "version": 3
   },
   "file_extension": ".py",
   "mimetype": "text/x-python",
   "name": "python",
   "nbconvert_exporter": "python",
   "pygments_lexer": "ipython3",
   "version": "3.11.7"
  },
  "widgets": {
   "application/vnd.jupyter.widget-state+json": {
    "state": {},
    "version_major": 2,
    "version_minor": 0
   }
  }
 },
 "nbformat": 4,
 "nbformat_minor": 5
}
