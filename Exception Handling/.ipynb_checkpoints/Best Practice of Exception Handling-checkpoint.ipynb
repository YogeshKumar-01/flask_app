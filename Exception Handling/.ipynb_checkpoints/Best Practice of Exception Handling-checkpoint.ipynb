{
 "cells": [
  {
   "cell_type": "code",
   "execution_count": 1,
   "id": "f2b8de1e-1418-452c-ba75-8d04650e40bf",
   "metadata": {},
   "outputs": [
    {
     "name": "stdout",
     "output_type": "stream",
     "text": [
      "division by zero\n"
     ]
    }
   ],
   "source": [
    "# Use always a specific exception \n",
    "try:\n",
    "    10/0\n",
    "\n",
    "except Exception as e:\n",
    "    print(e)"
   ]
  },
  {
   "cell_type": "code",
   "execution_count": 3,
   "id": "8f2372f5-c27d-41e6-a2d0-9094a5506221",
   "metadata": {},
   "outputs": [
    {
     "name": "stdout",
     "output_type": "stream",
     "text": [
      "division by zero\n"
     ]
    }
   ],
   "source": [
    "try:\n",
    "    10/0\n",
    "\n",
    "except ZeroDivisionError as e:\n",
    "    print(e)"
   ]
  },
  {
   "cell_type": "code",
   "execution_count": 5,
   "id": "2faae997-bf3a-49b7-a35f-d555887437df",
   "metadata": {},
   "outputs": [
    {
     "name": "stdout",
     "output_type": "stream",
     "text": [
      "I am trying to handle a zerodivisionError division by zero\n"
     ]
    }
   ],
   "source": [
    "#  print always a proper message\n",
    "try:\n",
    "    10/0\n",
    "\n",
    "except ZeroDivisionError as e:\n",
    "    print('I am trying to handle a zerodivisionError', e)"
   ]
  },
  {
   "cell_type": "code",
   "execution_count": 9,
   "id": "043ecf8a-df0f-4e44-b978-04d6c4abe322",
   "metadata": {},
   "outputs": [],
   "source": [
    "# always try to log your error\n",
    "import logging\n",
    "logging.basicConfig(filename = 'error.log', level = logging.ERROR)\n",
    "try:\n",
    "    10/0\n",
    "\n",
    "except ZeroDivisionError as e:\n",
    "    logging.error('i am trying to handle a zerodivision error {}'.format(e))"
   ]
  },
  {
   "cell_type": "code",
   "execution_count": 13,
   "id": "d7ee07ff-dd59-4d8e-907e-2f24b2d80a9d",
   "metadata": {},
   "outputs": [],
   "source": [
    "# always avoid to write a multiple exception handling\n",
    "try:\n",
    "    10/0\n",
    "\n",
    "except FileNotFoundError as e:\n",
    "    logging.error('i am handling file not found {}'.format(e))\n",
    "\n",
    "except AttributeError as e:\n",
    "    logging.error('i am handling Attribut error {}'.format(e))\n",
    "\n",
    "except ZeroDivisionError as e:\n",
    "    logging.error('i am trying to handle a zero division error {} '.format(e))"
   ]
  },
  {
   "cell_type": "code",
   "execution_count": 15,
   "id": "d1258791-96cb-402f-b54b-9b32b82048df",
   "metadata": {},
   "outputs": [],
   "source": [
    "# Document all the error\n",
    "# cleanup all the resources\n",
    "\n",
    "try:\n",
    "    with open('test5.txt', 'w') as f:\n",
    "        f.write('this is my data to file')\n",
    "\n",
    "except FileNotFoundError as e:\n",
    "    logging.error('i am handling file not found {}'. format(e))\n",
    "\n",
    "finally:\n",
    "    f.close()"
   ]
  },
  {
   "cell_type": "code",
   "execution_count": null,
   "id": "9358f70a-19e1-4918-b518-bae7ab2da13b",
   "metadata": {},
   "outputs": [],
   "source": []
  }
 ],
 "metadata": {
  "kernelspec": {
   "display_name": "Python 3 (ipykernel)",
   "language": "python",
   "name": "python3"
  },
  "language_info": {
   "codemirror_mode": {
    "name": "ipython",
    "version": 3
   },
   "file_extension": ".py",
   "mimetype": "text/x-python",
   "name": "python",
   "nbconvert_exporter": "python",
   "pygments_lexer": "ipython3",
   "version": "3.11.7"
  },
  "widgets": {
   "application/vnd.jupyter.widget-state+json": {
    "state": {},
    "version_major": 2,
    "version_minor": 0
   }
  }
 },
 "nbformat": 4,
 "nbformat_minor": 5
}
