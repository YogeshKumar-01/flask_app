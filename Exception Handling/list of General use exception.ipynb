{
 "cells": [
  {
   "cell_type": "code",
   "execution_count": 6,
   "id": "7dcd10b2-5590-41b8-bb75-bdbd93d6bd7c",
   "metadata": {},
   "outputs": [
    {
     "name": "stdout",
     "output_type": "stream",
     "text": [
      "division by zero\n"
     ]
    }
   ],
   "source": [
    "try:\n",
    "    a = 10/0\n",
    "except ZeroDivisionError as e:\n",
    "    print(e)"
   ]
  },
  {
   "cell_type": "code",
   "execution_count": 10,
   "id": "1b9f92a9-6dc0-4661-924e-f338558a41af",
   "metadata": {},
   "outputs": [
    {
     "name": "stdout",
     "output_type": "stream",
     "text": [
      "invalid literal for int() with base 10: 'sudh'\n"
     ]
    }
   ],
   "source": [
    "try:\n",
    "    int('sudh')\n",
    "except (ValueError, TypeError) as e:\n",
    "    print(e)"
   ]
  },
  {
   "cell_type": "code",
   "execution_count": 12,
   "id": "d89f02e5-9e57-4f0c-8ff5-9226dbf4fd1c",
   "metadata": {},
   "outputs": [
    {
     "name": "stdout",
     "output_type": "stream",
     "text": [
      "this will catch an error\n"
     ]
    }
   ],
   "source": [
    "try:\n",
    "    int('sudh')\n",
    "except:\n",
    "    print('this will catch an error')"
   ]
  },
  {
   "cell_type": "code",
   "execution_count": 14,
   "id": "4b7345c0-535c-4d95-b3f9-0047b65d8a18",
   "metadata": {},
   "outputs": [
    {
     "name": "stdout",
     "output_type": "stream",
     "text": [
      "No module named 'sudh'\n"
     ]
    },
    {
     "data": {
      "text/plain": [
       "2.5"
      ]
     },
     "execution_count": 14,
     "metadata": {},
     "output_type": "execute_result"
    }
   ],
   "source": [
    "try:\n",
    "    import sudh\n",
    "except ImportError as e:\n",
    "    print(e)\n",
    "\n",
    "10/4"
   ]
  },
  {
   "cell_type": "code",
   "execution_count": 18,
   "id": "fa84973b-eec3-4d9e-9836-6a224bce6329",
   "metadata": {},
   "outputs": [
    {
     "name": "stdout",
     "output_type": "stream",
     "text": [
      "'key2'\n"
     ]
    }
   ],
   "source": [
    "try:\n",
    "    d = {'key':'sudh', 1:[2,3,4,5]}\n",
    "    print(d['key2'])\n",
    "except KeyError as e:\n",
    "    print(e)"
   ]
  },
  {
   "cell_type": "code",
   "execution_count": 22,
   "id": "acd4db45-288d-4087-8f4b-8f5707619473",
   "metadata": {},
   "outputs": [
    {
     "name": "stdout",
     "output_type": "stream",
     "text": [
      "'str' object has no attribute 'test'\n"
     ]
    }
   ],
   "source": [
    "try:\n",
    "    ('sudh').test()\n",
    "except AttributeError as e:\n",
    "    print(e)"
   ]
  },
  {
   "cell_type": "code",
   "execution_count": 24,
   "id": "908ad603-a326-4e8e-8da1-b09289dfcba5",
   "metadata": {},
   "outputs": [
    {
     "name": "stdout",
     "output_type": "stream",
     "text": [
      "list index out of range\n"
     ]
    }
   ],
   "source": [
    "try:\n",
    "    l =[2,3,4,5]\n",
    "    print(l[6])\n",
    "\n",
    "except IndexError as e:\n",
    "    print(e)"
   ]
  },
  {
   "cell_type": "code",
   "execution_count": 26,
   "id": "9cab1a02-9600-44a6-b72a-f9d3424c75fd",
   "metadata": {},
   "outputs": [
    {
     "name": "stdout",
     "output_type": "stream",
     "text": [
      "unsupported operand type(s) for +: 'int' and 'str'\n"
     ]
    }
   ],
   "source": [
    "try:\n",
    "    123+\"sudh\"\n",
    "\n",
    "except TypeError as e:\n",
    "    print(e)"
   ]
  },
  {
   "cell_type": "code",
   "execution_count": 36,
   "id": "b6b3db0e-ebdc-4aaa-b140-03be98661304",
   "metadata": {},
   "outputs": [
    {
     "name": "stdout",
     "output_type": "stream",
     "text": [
      "[Errno 2] No such file or directory: 'test5.txt'\n"
     ]
    }
   ],
   "source": [
    "try:\n",
    "    with open('test5.txt', 'r') as f:\n",
    "        test5 = f.read()\n",
    "\n",
    "except FileNotFoundError as e:\n",
    "    print(e)"
   ]
  },
  {
   "cell_type": "code",
   "execution_count": 38,
   "id": "de28a519-4885-4903-a62c-ff3a6735790b",
   "metadata": {},
   "outputs": [
    {
     "data": {
      "text/plain": [
       "['__cause__',\n",
       " '__class__',\n",
       " '__context__',\n",
       " '__delattr__',\n",
       " '__dict__',\n",
       " '__dir__',\n",
       " '__doc__',\n",
       " '__eq__',\n",
       " '__format__',\n",
       " '__ge__',\n",
       " '__getattribute__',\n",
       " '__getstate__',\n",
       " '__gt__',\n",
       " '__hash__',\n",
       " '__init__',\n",
       " '__init_subclass__',\n",
       " '__le__',\n",
       " '__lt__',\n",
       " '__ne__',\n",
       " '__new__',\n",
       " '__reduce__',\n",
       " '__reduce_ex__',\n",
       " '__repr__',\n",
       " '__setattr__',\n",
       " '__setstate__',\n",
       " '__sizeof__',\n",
       " '__str__',\n",
       " '__subclasshook__',\n",
       " '__suppress_context__',\n",
       " '__traceback__',\n",
       " 'add_note',\n",
       " 'args',\n",
       " 'with_traceback']"
      ]
     },
     "execution_count": 38,
     "metadata": {},
     "output_type": "execute_result"
    }
   ],
   "source": [
    "dir(Exception)"
   ]
  },
  {
   "cell_type": "code",
   "execution_count": 42,
   "id": "a3be00b7-b5b5-4858-8d8a-019326b73523",
   "metadata": {},
   "outputs": [
    {
     "name": "stdout",
     "output_type": "stream",
     "text": [
      "[Errno 2] No such file or directory: 'test5.txt5'\n"
     ]
    }
   ],
   "source": [
    "try:\n",
    "    with open('test5.txt5', 'r') as f:\n",
    "        test = f.read()\n",
    "\n",
    "except Exception as e:\n",
    "    print(e)\n",
    "\n",
    "except FileExistsError as e:\n",
    "    print('test', e)"
   ]
  },
  {
   "cell_type": "code",
   "execution_count": 63,
   "id": "45ff5f8b-e10e-4852-a0a6-e286f683b3f4",
   "metadata": {},
   "outputs": [],
   "source": [
    "def test5(file):\n",
    "    try:\n",
    "        with open('text5', 'r') as f:\n",
    "            test = f.read()\n",
    "\n",
    "    except Exception as e:\n",
    "        print(e)\n",
    "\n",
    "    except FileNotFoundError as e:\n",
    "        print('test5', e)"
   ]
  },
  {
   "cell_type": "code",
   "execution_count": 73,
   "id": "91bbdb36-ef8f-4cb2-b466-8c2a2702dfce",
   "metadata": {},
   "outputs": [
    {
     "name": "stdout",
     "output_type": "stream",
     "text": [
      "[Errno 2] No such file or directory: 'text5'\n"
     ]
    }
   ],
   "source": [
    "test5(test)"
   ]
  },
  {
   "cell_type": "code",
   "execution_count": null,
   "id": "a8d375d4-90ee-4a87-bcf1-384e1a6a99ad",
   "metadata": {},
   "outputs": [],
   "source": []
  }
 ],
 "metadata": {
  "kernelspec": {
   "display_name": "Python 3 (ipykernel)",
   "language": "python",
   "name": "python3"
  },
  "language_info": {
   "codemirror_mode": {
    "name": "ipython",
    "version": 3
   },
   "file_extension": ".py",
   "mimetype": "text/x-python",
   "name": "python",
   "nbconvert_exporter": "python",
   "pygments_lexer": "ipython3",
   "version": "3.11.7"
  },
  "widgets": {
   "application/vnd.jupyter.widget-state+json": {
    "state": {},
    "version_major": 2,
    "version_minor": 0
   }
  }
 },
 "nbformat": 4,
 "nbformat_minor": 5
}
