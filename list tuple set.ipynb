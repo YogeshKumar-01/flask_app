{
 "cells": [
  {
   "cell_type": "code",
   "execution_count": 8,
   "id": "09d16485-bcf3-42dd-bea1-50af508d9bc9",
   "metadata": {},
   "outputs": [],
   "source": [
    "lst = [1,'gjgf',2+5j,True,3.55]"
   ]
  },
  {
   "cell_type": "code",
   "execution_count": 9,
   "id": "7f136d55-2975-4ea7-8382-33080e08517b",
   "metadata": {},
   "outputs": [
    {
     "data": {
      "text/plain": [
       "list"
      ]
     },
     "execution_count": 9,
     "metadata": {},
     "output_type": "execute_result"
    }
   ],
   "source": [
    "type(lst)"
   ]
  },
  {
   "cell_type": "code",
   "execution_count": 10,
   "id": "aea6c2b3-1e60-4c36-bb9a-12d8acfbdc9b",
   "metadata": {},
   "outputs": [
    {
     "data": {
      "text/plain": [
       "1"
      ]
     },
     "execution_count": 10,
     "metadata": {},
     "output_type": "execute_result"
    }
   ],
   "source": [
    "lst[0]"
   ]
  },
  {
   "cell_type": "code",
   "execution_count": 11,
   "id": "d32ff181-1396-41bc-9c16-61ef67d417da",
   "metadata": {},
   "outputs": [
    {
     "ename": "IndexError",
     "evalue": "list index out of range",
     "output_type": "error",
     "traceback": [
      "\u001b[1;31m---------------------------------------------------------------------------\u001b[0m",
      "\u001b[1;31mIndexError\u001b[0m                                Traceback (most recent call last)",
      "Cell \u001b[1;32mIn[11], line 1\u001b[0m\n\u001b[1;32m----> 1\u001b[0m lst[\u001b[38;5;241m20\u001b[39m]\n",
      "\u001b[1;31mIndexError\u001b[0m: list index out of range"
     ]
    }
   ],
   "source": [
    "lst[20]"
   ]
  },
  {
   "cell_type": "code",
   "execution_count": null,
   "id": "5b09a128-8386-4382-ac02-03012394db06",
   "metadata": {},
   "outputs": [],
   "source": [
    "lst[0:3:1]"
   ]
  },
  {
   "cell_type": "code",
   "execution_count": null,
   "id": "4ace1c82-1c9b-4c7a-9063-825e9cdf3a74",
   "metadata": {},
   "outputs": [],
   "source": [
    "lst[::-1]"
   ]
  },
  {
   "cell_type": "code",
   "execution_count": null,
   "id": "1a2dd159-5eaa-4e50-b4d0-5576d1c5e5b1",
   "metadata": {},
   "outputs": [],
   "source": [
    "lst[::2]"
   ]
  },
  {
   "cell_type": "code",
   "execution_count": null,
   "id": "59743c45-db3e-4798-ba82-2b586e62eb1a",
   "metadata": {},
   "outputs": [],
   "source": [
    "s = \"pwskills\""
   ]
  },
  {
   "cell_type": "code",
   "execution_count": null,
   "id": "c0defb69-43f9-43a4-9125-217288497b4e",
   "metadata": {},
   "outputs": [],
   "source": [
    "s"
   ]
  },
  {
   "cell_type": "code",
   "execution_count": null,
   "id": "2c36c5fd-e49e-48f4-a0bd-e267cd95c167",
   "metadata": {},
   "outputs": [],
   "source": [
    "lst+s"
   ]
  },
  {
   "cell_type": "code",
   "execution_count": null,
   "id": "ed69f11b-e09c-4634-a254-1c358df6288a",
   "metadata": {},
   "outputs": [],
   "source": [
    "list(s)+lst"
   ]
  },
  {
   "cell_type": "code",
   "execution_count": null,
   "id": "618ea6e0-0e26-4e4a-a8f4-a89849d749f6",
   "metadata": {},
   "outputs": [],
   "source": [
    "lst.append(s)"
   ]
  },
  {
   "cell_type": "code",
   "execution_count": null,
   "id": "d0e53fd8-e5ee-42aa-a958-c0ac3b90ad9c",
   "metadata": {
    "scrolled": true
   },
   "outputs": [],
   "source": [
    "lst"
   ]
  },
  {
   "cell_type": "code",
   "execution_count": null,
   "id": "fb668464-6372-492c-85f7-f3903e19b422",
   "metadata": {},
   "outputs": [],
   "source": [
    "lst[1]"
   ]
  },
  {
   "cell_type": "code",
   "execution_count": null,
   "id": "2a786bf0-f76c-4e20-a4ff-576b830a4a8b",
   "metadata": {},
   "outputs": [],
   "source": [
    "type(lst[1])"
   ]
  },
  {
   "cell_type": "code",
   "execution_count": null,
   "id": "34db3b6b-101e-4979-b799-a65670916ef4",
   "metadata": {},
   "outputs": [],
   "source": [
    "lst[1][0:2]"
   ]
  },
  {
   "cell_type": "code",
   "execution_count": null,
   "id": "733a880d-e3a5-4150-8dd4-3752472e138b",
   "metadata": {},
   "outputs": [],
   "source": [
    "str(lst[3])[0:2]"
   ]
  },
  {
   "cell_type": "code",
   "execution_count": null,
   "id": "a06eff58-2f11-42ed-a9a8-b45baaf01752",
   "metadata": {},
   "outputs": [],
   "source": [
    "lst+5"
   ]
  },
  {
   "cell_type": "code",
   "execution_count": null,
   "id": "c661b2c0-3e1a-4600-82b9-46354d9cfe94",
   "metadata": {},
   "outputs": [],
   "source": [
    "lst.append(5)"
   ]
  },
  {
   "cell_type": "code",
   "execution_count": null,
   "id": "42be0854-2340-4800-a514-fdf33dd95251",
   "metadata": {},
   "outputs": [],
   "source": [
    "lst"
   ]
  },
  {
   "cell_type": "code",
   "execution_count": null,
   "id": "45f27094-fc80-4d12-85fc-646a8060c45a",
   "metadata": {},
   "outputs": [],
   "source": [
    "list = [1,2,3]"
   ]
  },
  {
   "cell_type": "code",
   "execution_count": null,
   "id": "a05abff9-c7a2-43be-92e0-ac37778e8275",
   "metadata": {},
   "outputs": [],
   "source": [
    "lst+list"
   ]
  },
  {
   "cell_type": "code",
   "execution_count": null,
   "id": "32d493a1-59f9-4b0a-b9b0-e44150feb258",
   "metadata": {},
   "outputs": [],
   "source": [
    "list*3"
   ]
  },
  {
   "cell_type": "code",
   "execution_count": null,
   "id": "1b7636f4-a163-4a73-94c2-2a5a2862f6be",
   "metadata": {
    "scrolled": true
   },
   "outputs": [],
   "source": [
    "len(lst)"
   ]
  },
  {
   "cell_type": "code",
   "execution_count": null,
   "id": "5bb72326-3dfa-4975-8f07-fed986da4486",
   "metadata": {},
   "outputs": [],
   "source": [
    "lst"
   ]
  },
  {
   "cell_type": "code",
   "execution_count": null,
   "id": "55502f27-6bf2-41ff-be25-3d0faeaaf930",
   "metadata": {},
   "outputs": [],
   "source": [
    "lst.append(6)"
   ]
  },
  {
   "cell_type": "code",
   "execution_count": null,
   "id": "8a1846f0-7b5e-4bd7-ade0-10921cc804f8",
   "metadata": {},
   "outputs": [],
   "source": [
    "lst"
   ]
  },
  {
   "cell_type": "code",
   "execution_count": null,
   "id": "8ce39b5d-8d18-42da-9e39-13592aca6fa8",
   "metadata": {},
   "outputs": [],
   "source": [
    "len(lst)"
   ]
  },
  {
   "cell_type": "code",
   "execution_count": null,
   "id": "b3f4ced6-cce1-4bde-a2fa-84f126855fe3",
   "metadata": {},
   "outputs": [],
   "source": [
    "len(list)"
   ]
  },
  {
   "cell_type": "code",
   "execution_count": null,
   "id": "4e07cb3d-09ac-4c6e-964d-582aa93eebe6",
   "metadata": {},
   "outputs": [],
   "source": [
    "lst.append(9)"
   ]
  },
  {
   "cell_type": "code",
   "execution_count": null,
   "id": "39133f90-c70a-464c-aaaf-75346ed29ac4",
   "metadata": {},
   "outputs": [],
   "source": [
    "lst"
   ]
  },
  {
   "cell_type": "code",
   "execution_count": null,
   "id": "eb7eefcb-4e47-49ee-82c2-2ddfed02e672",
   "metadata": {},
   "outputs": [],
   "source": [
    "lst.append(list)"
   ]
  },
  {
   "cell_type": "code",
   "execution_count": null,
   "id": "1bde40bc-80c8-475a-9e8c-9173b5050b74",
   "metadata": {},
   "outputs": [],
   "source": [
    "lst"
   ]
  },
  {
   "cell_type": "code",
   "execution_count": null,
   "id": "684b4189-3b89-4e8c-962e-897fb456d9f5",
   "metadata": {},
   "outputs": [],
   "source": [
    "lst[-1][1:2]"
   ]
  },
  {
   "cell_type": "code",
   "execution_count": null,
   "id": "37b7de01-6a80-4d22-ae40-d190b8a3e4e5",
   "metadata": {},
   "outputs": [],
   "source": [
    "lst.extend('yogesh')\n"
   ]
  },
  {
   "cell_type": "code",
   "execution_count": null,
   "id": "f252ee6e-a2c7-4176-b46f-45b33f3cd1cd",
   "metadata": {},
   "outputs": [],
   "source": [
    "lst"
   ]
  },
  {
   "cell_type": "code",
   "execution_count": null,
   "id": "912c4a85-eafa-4ed5-8ddf-90f5f3517144",
   "metadata": {},
   "outputs": [],
   "source": [
    "lst.extend([4,5,6])"
   ]
  },
  {
   "cell_type": "code",
   "execution_count": null,
   "id": "1b1ca4b7-087d-4e43-9d0e-1e3f554e8b7b",
   "metadata": {},
   "outputs": [],
   "source": [
    "lst"
   ]
  },
  {
   "cell_type": "code",
   "execution_count": null,
   "id": "661f4180-49a8-42d7-a2fa-f5154a5ae0ec",
   "metadata": {},
   "outputs": [],
   "source": [
    "list"
   ]
  },
  {
   "cell_type": "code",
   "execution_count": null,
   "id": "2076ab28-b09d-44d3-b296-4235f02be347",
   "metadata": {},
   "outputs": [],
   "source": [
    "list.insert(3,345)"
   ]
  },
  {
   "cell_type": "code",
   "execution_count": null,
   "id": "fb8a6889-501b-4a3c-8f4d-5ee4f9b12ab6",
   "metadata": {},
   "outputs": [],
   "source": [
    "list"
   ]
  },
  {
   "cell_type": "code",
   "execution_count": null,
   "id": "feb3d992-4586-458b-93c8-f2b654bfbb18",
   "metadata": {},
   "outputs": [],
   "source": [
    "list.insert(0,0)"
   ]
  },
  {
   "cell_type": "code",
   "execution_count": null,
   "id": "3e87ed0c-0050-41f6-af3b-fa707c7fd089",
   "metadata": {},
   "outputs": [],
   "source": [
    "list"
   ]
  },
  {
   "cell_type": "code",
   "execution_count": null,
   "id": "8dbc87eb-0f99-441c-bef6-d6d94eb4552f",
   "metadata": {},
   "outputs": [],
   "source": [
    "list.insert(-1,12) "
   ]
  },
  {
   "cell_type": "code",
   "execution_count": null,
   "id": "bf6eb9cc-e93b-44e1-85c1-ed7993669e22",
   "metadata": {},
   "outputs": [],
   "source": [
    "list"
   ]
  },
  {
   "cell_type": "code",
   "execution_count": null,
   "id": "514a4777-4def-4c92-9a95-a0483c93f852",
   "metadata": {},
   "outputs": [],
   "source": [
    "list.pop()"
   ]
  },
  {
   "cell_type": "code",
   "execution_count": null,
   "id": "a1bc7198-e9f6-4707-a2a1-e554fe6a0a5e",
   "metadata": {},
   "outputs": [],
   "source": [
    "list"
   ]
  },
  {
   "cell_type": "code",
   "execution_count": null,
   "id": "bf6ba5f7-63ba-4f0e-a7b8-0aee0588530d",
   "metadata": {},
   "outputs": [],
   "source": [
    "list.pop(5)"
   ]
  },
  {
   "cell_type": "code",
   "execution_count": null,
   "id": "265eadcc-26c1-489f-bd64-9bb512e50c03",
   "metadata": {},
   "outputs": [],
   "source": [
    "list"
   ]
  },
  {
   "cell_type": "code",
   "execution_count": null,
   "id": "b057d346-f215-44e2-8668-5471b5d85329",
   "metadata": {},
   "outputs": [],
   "source": [
    "list.remove(0)"
   ]
  },
  {
   "cell_type": "code",
   "execution_count": null,
   "id": "dd2d03fc-70af-4e1a-bb22-e6bce1112852",
   "metadata": {},
   "outputs": [],
   "source": [
    "list"
   ]
  },
  {
   "cell_type": "code",
   "execution_count": null,
   "id": "64f925be-6e72-4829-980f-e9bf73cf8d41",
   "metadata": {},
   "outputs": [],
   "source": [
    "l1 = [1,2,3]"
   ]
  },
  {
   "cell_type": "code",
   "execution_count": 12,
   "id": "98d1591b-db02-420a-93f8-e3f040732a03",
   "metadata": {},
   "outputs": [
    {
     "ename": "NameError",
     "evalue": "name 'l1' is not defined",
     "output_type": "error",
     "traceback": [
      "\u001b[1;31m---------------------------------------------------------------------------\u001b[0m",
      "\u001b[1;31mNameError\u001b[0m                                 Traceback (most recent call last)",
      "Cell \u001b[1;32mIn[12], line 1\u001b[0m\n\u001b[1;32m----> 1\u001b[0m \u001b[38;5;28mlist\u001b[39m\u001b[38;5;241m.\u001b[39mappend(l1)\n",
      "\u001b[1;31mNameError\u001b[0m: name 'l1' is not defined"
     ]
    }
   ],
   "source": [
    "list.append(l1)"
   ]
  },
  {
   "cell_type": "code",
   "execution_count": null,
   "id": "a44c636f-620d-4714-95c0-f472dac52c96",
   "metadata": {},
   "outputs": [],
   "source": [
    "list"
   ]
  },
  {
   "cell_type": "code",
   "execution_count": null,
   "id": "1cb3d9e9-c8f1-4207-9154-eaed67cbee9a",
   "metadata": {},
   "outputs": [],
   "source": [
    "list[7].remove(2)"
   ]
  },
  {
   "cell_type": "code",
   "execution_count": null,
   "id": "22af738d-6f48-4c2a-8010-fe6706ff5dec",
   "metadata": {},
   "outputs": [],
   "source": [
    "list"
   ]
  },
  {
   "cell_type": "code",
   "execution_count": null,
   "id": "b695bc68-c1a1-4cfc-81ce-205a13ad71d1",
   "metadata": {},
   "outputs": [],
   "source": [
    "l1.append('Raju')"
   ]
  },
  {
   "cell_type": "code",
   "execution_count": null,
   "id": "ac5d6023-240f-4a67-a374-89cbd14d320f",
   "metadata": {},
   "outputs": [],
   "source": [
    "l1"
   ]
  },
  {
   "cell_type": "code",
   "execution_count": null,
   "id": "5cf4abf5-4721-4e5f-8077-667b1fea7f58",
   "metadata": {},
   "outputs": [],
   "source": [
    "list"
   ]
  },
  {
   "cell_type": "code",
   "execution_count": null,
   "id": "3ff5d7b1-05df-4946-ad27-9e59bbc5c2f3",
   "metadata": {},
   "outputs": [],
   "source": [
    "l1.reverse()"
   ]
  },
  {
   "cell_type": "code",
   "execution_count": null,
   "id": "7a59ac29-cb14-4c1c-b259-213985a33774",
   "metadata": {},
   "outputs": [],
   "source": [
    "l1"
   ]
  },
  {
   "cell_type": "code",
   "execution_count": null,
   "id": "fa62d250-c2b3-4671-a020-115c390406ce",
   "metadata": {},
   "outputs": [],
   "source": [
    "l1[::-1]"
   ]
  },
  {
   "cell_type": "code",
   "execution_count": null,
   "id": "71e55fe6-fdac-452a-9afd-4a42caf10569",
   "metadata": {},
   "outputs": [],
   "source": [
    "l1"
   ]
  },
  {
   "cell_type": "code",
   "execution_count": null,
   "id": "165e3180-5689-4ce7-adb9-433318e4c9c5",
   "metadata": {},
   "outputs": [],
   "source": [
    "l1.sort()"
   ]
  },
  {
   "cell_type": "code",
   "execution_count": null,
   "id": "f894f1d2-6e3a-477a-b44e-044302f1666a",
   "metadata": {},
   "outputs": [],
   "source": [
    "l1.remove('Raju')"
   ]
  },
  {
   "cell_type": "code",
   "execution_count": null,
   "id": "2ae0fef8-b2c5-4c00-8113-b9e8cb6fe00a",
   "metadata": {},
   "outputs": [],
   "source": [
    "l1"
   ]
  },
  {
   "cell_type": "code",
   "execution_count": null,
   "id": "1a5e8bb6-143a-4b56-9262-071e4d613339",
   "metadata": {},
   "outputs": [],
   "source": [
    "l1.append(44)"
   ]
  },
  {
   "cell_type": "code",
   "execution_count": null,
   "id": "5252e142-8ca1-4cb1-ac68-198e877dbfed",
   "metadata": {},
   "outputs": [],
   "source": [
    "l1.append(4)"
   ]
  },
  {
   "cell_type": "code",
   "execution_count": null,
   "id": "32fd4742-fab7-4277-b692-e3fd87d963d5",
   "metadata": {},
   "outputs": [],
   "source": [
    "l1"
   ]
  },
  {
   "cell_type": "code",
   "execution_count": null,
   "id": "e4d71f0c-2711-4a70-80a6-bc39d8cf2da0",
   "metadata": {},
   "outputs": [],
   "source": [
    "l1.sort(reverse = True)"
   ]
  },
  {
   "cell_type": "code",
   "execution_count": null,
   "id": "ccb2dc01-eab6-48ba-99f4-d1dc3e43e8ec",
   "metadata": {},
   "outputs": [],
   "source": [
    "l1\n"
   ]
  },
  {
   "cell_type": "code",
   "execution_count": null,
   "id": "599b897e-3943-46f4-b62c-8be2e1e5c7a5",
   "metadata": {},
   "outputs": [],
   "source": [
    "t = (2,3,4,5,\"raju\",45.56,[1,2,3])"
   ]
  },
  {
   "cell_type": "code",
   "execution_count": null,
   "id": "9f73c6d9-bf0e-40b1-b994-9e63a1d5f13a",
   "metadata": {},
   "outputs": [],
   "source": [
    "type(t)"
   ]
  },
  {
   "cell_type": "code",
   "execution_count": null,
   "id": "7308f0d2-0850-4236-8bc3-d4391912e7e1",
   "metadata": {},
   "outputs": [],
   "source": [
    "len(t)"
   ]
  },
  {
   "cell_type": "code",
   "execution_count": null,
   "id": "300b7fd3-4016-4f2a-9ca9-7123517e45b8",
   "metadata": {},
   "outputs": [],
   "source": [
    "t[5]"
   ]
  },
  {
   "cell_type": "code",
   "execution_count": null,
   "id": "ae5910e4-f979-44e3-a2f4-bb6aa7b3c41d",
   "metadata": {},
   "outputs": [],
   "source": [
    "t[::-1]"
   ]
  },
  {
   "cell_type": "code",
   "execution_count": null,
   "id": "144d7079-d735-4955-b175-feb57d925134",
   "metadata": {},
   "outputs": [],
   "source": [
    "t.index(45.56)"
   ]
  },
  {
   "cell_type": "code",
   "execution_count": null,
   "id": "a77a4509-41fc-44e3-8a70-8aed6089d1d9",
   "metadata": {},
   "outputs": [],
   "source": [
    "t.index(5)"
   ]
  },
  {
   "cell_type": "code",
   "execution_count": null,
   "id": "2cad0020-9f62-43f9-8dfc-2f3d16fda30e",
   "metadata": {},
   "outputs": [],
   "source": [
    "t.count(45.56)"
   ]
  },
  {
   "cell_type": "code",
   "execution_count": null,
   "id": "171e7312-257f-4f1f-9d7e-65e3e4c28245",
   "metadata": {},
   "outputs": [],
   "source": [
    "t"
   ]
  },
  {
   "cell_type": "code",
   "execution_count": null,
   "id": "ef02b161-6cf1-4d34-8d7e-95377c1a2ec7",
   "metadata": {},
   "outputs": [],
   "source": [
    "s1 = {}"
   ]
  },
  {
   "cell_type": "code",
   "execution_count": null,
   "id": "0a76e953-bb5c-4a9b-b4e0-9903e4831e36",
   "metadata": {},
   "outputs": [],
   "source": [
    "type(s1)"
   ]
  },
  {
   "cell_type": "code",
   "execution_count": null,
   "id": "c7be0da4-8fb8-4860-aba2-e5a9921fd039",
   "metadata": {},
   "outputs": [],
   "source": [
    "s2 = {1,2,3,4,5,6}\n"
   ]
  },
  {
   "cell_type": "code",
   "execution_count": null,
   "id": "c4a88dc6-ff7f-4faa-82fb-4cfd44a299f2",
   "metadata": {},
   "outputs": [],
   "source": [
    "type(s2)"
   ]
  },
  {
   "cell_type": "code",
   "execution_count": null,
   "id": "829646fd-3015-4079-9aa5-e0e85b1b5238",
   "metadata": {},
   "outputs": [],
   "source": [
    "s3 = {324,456,\"yogi\", 45+2j, (2,3,4)}"
   ]
  },
  {
   "cell_type": "code",
   "execution_count": null,
   "id": "b71fef23-d41a-472c-b80d-ad2dd4a58bee",
   "metadata": {},
   "outputs": [],
   "source": [
    "s3"
   ]
  },
  {
   "cell_type": "code",
   "execution_count": null,
   "id": "67a944d7-f9b0-4e3f-a21f-cb77f180c7c5",
   "metadata": {},
   "outputs": [],
   "source": [
    "s4 = {2,5,96,332,555,222,2222,333,333,2,1,2,5,2,3,2,1,5,2.0}"
   ]
  },
  {
   "cell_type": "code",
   "execution_count": null,
   "id": "cd6a8431-8a27-42b2-8f49-618738e5938c",
   "metadata": {},
   "outputs": [],
   "source": [
    "s4"
   ]
  },
  {
   "cell_type": "code",
   "execution_count": 14,
   "id": "2b7ecb60-72bb-4759-9783-00d3cb959872",
   "metadata": {},
   "outputs": [],
   "source": [
    "l5 = [2,5,96,332,555,222,2222,333,333,2,1,2,5,2,3,2,1,5,2]"
   ]
  },
  {
   "cell_type": "code",
   "execution_count": 15,
   "id": "95401345-f60d-49d2-b35f-497a81b04ed4",
   "metadata": {},
   "outputs": [],
   "source": [
    "l5 = list(set(l5))"
   ]
  },
  {
   "cell_type": "code",
   "execution_count": 16,
   "id": "b55ef52e-48b1-4689-be13-977c1033f8e9",
   "metadata": {},
   "outputs": [
    {
     "data": {
      "text/plain": [
       "[96, 1, 2, 3, 5, 555, 332, 333, 2222, 222]"
      ]
     },
     "execution_count": 16,
     "metadata": {},
     "output_type": "execute_result"
    }
   ],
   "source": [
    "l5"
   ]
  },
  {
   "cell_type": "code",
   "execution_count": 17,
   "id": "7fe19bf6-b62f-4820-bd9d-bbbd655af32b",
   "metadata": {},
   "outputs": [],
   "source": [
    "s5 = {12,2,23,234,342,45,354,234,\"abc\"}"
   ]
  },
  {
   "cell_type": "code",
   "execution_count": 18,
   "id": "e757b9e3-7429-442c-8ffc-2bb8aa8ff241",
   "metadata": {},
   "outputs": [
    {
     "data": {
      "text/plain": [
       "{12, 2, 23, 234, 342, 354, 45, 'abc'}"
      ]
     },
     "execution_count": 18,
     "metadata": {},
     "output_type": "execute_result"
    }
   ],
   "source": [
    "s5"
   ]
  },
  {
   "cell_type": "code",
   "execution_count": 20,
   "id": "8042afc9-85bf-485e-b85e-2612c1555109",
   "metadata": {},
   "outputs": [],
   "source": [
    "s5.add(4)"
   ]
  },
  {
   "cell_type": "code",
   "execution_count": 22,
   "id": "0b1c7941-622e-4a57-89a0-b3a2873b9267",
   "metadata": {},
   "outputs": [
    {
     "data": {
      "text/plain": [
       "{12, 2, 23, 234, 342, 354, 4, 45, 'abc'}"
      ]
     },
     "execution_count": 22,
     "metadata": {},
     "output_type": "execute_result"
    }
   ],
   "source": [
    "s5"
   ]
  },
  {
   "cell_type": "code",
   "execution_count": 23,
   "id": "8c479b36-1fab-4a2e-bac2-473c60990402",
   "metadata": {},
   "outputs": [],
   "source": [
    "s5.remove(12)"
   ]
  },
  {
   "cell_type": "code",
   "execution_count": 25,
   "id": "d8cd2dde-4bd0-46ba-a886-a67e33668f87",
   "metadata": {},
   "outputs": [
    {
     "data": {
      "text/plain": [
       "{2, 23, 234, 342, 354, 4, 45, 'abc'}"
      ]
     },
     "execution_count": 25,
     "metadata": {},
     "output_type": "execute_result"
    }
   ],
   "source": [
    "s5"
   ]
  },
  {
   "cell_type": "code",
   "execution_count": 27,
   "id": "d2dc3a4c-7838-4346-8c99-2a0a2cb4cbcf",
   "metadata": {},
   "outputs": [],
   "source": [
    " s5.discard(23)"
   ]
  },
  {
   "cell_type": "code",
   "execution_count": 28,
   "id": "f42eaa93-ca0d-4a72-a6ea-1cf43fb995ca",
   "metadata": {},
   "outputs": [
    {
     "data": {
      "text/plain": [
       "{2, 234, 342, 354, 4, 45, 'abc'}"
      ]
     },
     "execution_count": 28,
     "metadata": {},
     "output_type": "execute_result"
    }
   ],
   "source": [
    "s5"
   ]
  },
  {
   "cell_type": "code",
   "execution_count": null,
   "id": "e442a546-5ebe-48f2-8285-72e19ffdcd21",
   "metadata": {},
   "outputs": [],
   "source": []
  },
  {
   "cell_type": "code",
   "execution_count": null,
   "id": "364846e2-58fd-489d-be07-dd6dfb15d07c",
   "metadata": {},
   "outputs": [],
   "source": []
  },
  {
   "cell_type": "code",
   "execution_count": null,
   "id": "76f551f1-c26b-4460-9af1-58107850a5df",
   "metadata": {},
   "outputs": [],
   "source": []
  }
 ],
 "metadata": {
  "kernelspec": {
   "display_name": "Python 3 (ipykernel)",
   "language": "python",
   "name": "python3"
  },
  "language_info": {
   "codemirror_mode": {
    "name": "ipython",
    "version": 3
   },
   "file_extension": ".py",
   "mimetype": "text/x-python",
   "name": "python",
   "nbconvert_exporter": "python",
   "pygments_lexer": "ipython3",
   "version": "3.11.7"
  }
 },
 "nbformat": 4,
 "nbformat_minor": 5
}
