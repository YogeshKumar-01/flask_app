{
 "cells": [
  {
   "cell_type": "code",
   "execution_count": 1,
   "id": "918daf15-9c8a-43ab-88ba-5a21441f035a",
   "metadata": {},
   "outputs": [],
   "source": [
    "class pwskills:\n",
    "    \n",
    "    def __init__(self, name, email):\n",
    "\n",
    "        self.name = name\n",
    "        self.email = email\n",
    "\n",
    "    def students_details(self):\n",
    "        print(self.name, self.email)"
   ]
  },
  {
   "cell_type": "code",
   "execution_count": 2,
   "id": "f243b599-e4d6-44c8-abae-676f56ad139d",
   "metadata": {},
   "outputs": [],
   "source": [
    "pw = pwskills('Mohan', 'mohan@gmail.com')"
   ]
  },
  {
   "cell_type": "code",
   "execution_count": 3,
   "id": "5d2c46e6-86e1-4623-ab9b-652129bb338c",
   "metadata": {},
   "outputs": [
    {
     "data": {
      "text/plain": [
       "'Mohan'"
      ]
     },
     "execution_count": 3,
     "metadata": {},
     "output_type": "execute_result"
    }
   ],
   "source": [
    "pw.name"
   ]
  },
  {
   "cell_type": "code",
   "execution_count": 4,
   "id": "b5f93982-1ead-41c0-be64-7b892088d2a1",
   "metadata": {},
   "outputs": [
    {
     "data": {
      "text/plain": [
       "'mohan@gmail.com'"
      ]
     },
     "execution_count": 4,
     "metadata": {},
     "output_type": "execute_result"
    }
   ],
   "source": [
    "pw.email"
   ]
  },
  {
   "cell_type": "code",
   "execution_count": 5,
   "id": "c645d9fb-79c2-431f-971a-6bcaf5c09878",
   "metadata": {},
   "outputs": [
    {
     "name": "stdout",
     "output_type": "stream",
     "text": [
      "Mohan mohan@gmail.com\n"
     ]
    }
   ],
   "source": [
    "pw.students_details()"
   ]
  },
  {
   "cell_type": "code",
   "execution_count": 13,
   "id": "c3a82e04-f68b-4c9d-8629-bb3647096659",
   "metadata": {},
   "outputs": [],
   "source": [
    " class pwskills1:\n",
    "\n",
    "     def __init__(self, name, email):\n",
    "\n",
    "         self.name = name\n",
    "         self.email = email\n",
    "\n",
    "     @classmethod\n",
    "     def details(cls, name, email):\n",
    "         return cls(name, email)\n",
    "\n",
    "     def students_details(self):\n",
    "        print(self.name, self.email)"
   ]
  },
  {
   "cell_type": "code",
   "execution_count": 18,
   "id": "02218bcb-645f-4a8f-aeaf-729c1c56f19d",
   "metadata": {},
   "outputs": [],
   "source": [
    "pw1 = pwskills1.details('sudh', 'sudh@gmail.com')"
   ]
  },
  {
   "cell_type": "code",
   "execution_count": 19,
   "id": "4abcfd54-0e33-44b2-8e0a-d4162f9d94a1",
   "metadata": {},
   "outputs": [
    {
     "data": {
      "text/plain": [
       "'sudh'"
      ]
     },
     "execution_count": 19,
     "metadata": {},
     "output_type": "execute_result"
    }
   ],
   "source": [
    "pw1.name"
   ]
  },
  {
   "cell_type": "code",
   "execution_count": 20,
   "id": "70913dd7-102a-4baf-a806-0049706a3c1b",
   "metadata": {},
   "outputs": [
    {
     "data": {
      "text/plain": [
       "'sudh@gmail.com'"
      ]
     },
     "execution_count": 20,
     "metadata": {},
     "output_type": "execute_result"
    }
   ],
   "source": [
    "pw1.email"
   ]
  },
  {
   "cell_type": "code",
   "execution_count": 30,
   "id": "7518524a-4f56-42d9-baef-3fec4f576fab",
   "metadata": {},
   "outputs": [],
   "source": [
    "class pwskills2:\n",
    "    mobile_num = 97853366\n",
    "\n",
    "    def __init__(self, name, email):\n",
    "\n",
    "        self.name = name\n",
    "        self.email = email\n",
    "\n",
    "    @classmethod\n",
    "    def change_number(cls, mobile):\n",
    "        pwskills2.mobile_num = mobile\n",
    "\n",
    "    @classmethod\n",
    "    def details(cls, name, email):\n",
    "        return cls(name, email)\n",
    "\n",
    "    def students_details(self):\n",
    "        print(self.name, self.email, pwskills2.mobile_num)"
   ]
  },
  {
   "cell_type": "code",
   "execution_count": 36,
   "id": "8a091845-cddc-4359-8ebb-b93f67782ea4",
   "metadata": {},
   "outputs": [],
   "source": [
    "pwskills2.change_number(789456123)"
   ]
  },
  {
   "cell_type": "code",
   "execution_count": 37,
   "id": "e80cc5e9-2cba-4c40-817c-b84d867473f2",
   "metadata": {},
   "outputs": [
    {
     "data": {
      "text/plain": [
       "789456123"
      ]
     },
     "execution_count": 37,
     "metadata": {},
     "output_type": "execute_result"
    }
   ],
   "source": [
    "pwskills2.mobile_num"
   ]
  },
  {
   "cell_type": "code",
   "execution_count": 38,
   "id": "f6a2e1aa-8138-4b6c-868d-f94b98e0f015",
   "metadata": {},
   "outputs": [
    {
     "data": {
      "text/plain": [
       "789456123"
      ]
     },
     "execution_count": 38,
     "metadata": {},
     "output_type": "execute_result"
    }
   ],
   "source": [
    "pwskills2.mobile_num"
   ]
  },
  {
   "cell_type": "code",
   "execution_count": 39,
   "id": "a95d2c9b-0539-4ead-846f-e9cd4b35d2ff",
   "metadata": {},
   "outputs": [],
   "source": [
    "pw_obj = pwskills2('sudh', 'sudh@gmail.com')"
   ]
  },
  {
   "cell_type": "code",
   "execution_count": 40,
   "id": "c778c24c-fc4a-495f-82dc-4be69d00abcf",
   "metadata": {},
   "outputs": [
    {
     "name": "stdout",
     "output_type": "stream",
     "text": [
      "sudh sudh@gmail.com 789456123\n"
     ]
    }
   ],
   "source": [
    "pw_obj.students_details()"
   ]
  },
  {
   "cell_type": "code",
   "execution_count": 41,
   "id": "eed82a2a-1b25-497d-8495-90f210a32e0b",
   "metadata": {},
   "outputs": [],
   "source": [
    "pw = pwskills2.details('rohan', 'rohan@gmail.com')"
   ]
  },
  {
   "cell_type": "code",
   "execution_count": 43,
   "id": "39bd02f1-fe7d-45a9-8c03-4cc9bdad8317",
   "metadata": {},
   "outputs": [
    {
     "name": "stdout",
     "output_type": "stream",
     "text": [
      "rohan rohan@gmail.com 789456123\n"
     ]
    }
   ],
   "source": [
    "pw.students_details()"
   ]
  },
  {
   "cell_type": "code",
   "execution_count": 44,
   "id": "45733263-1d08-4ddf-a64a-a691dadd2dab",
   "metadata": {},
   "outputs": [],
   "source": [
    "class pwskills3 :\n",
    "\n",
    "    mobile_num = 987456321\n",
    "\n",
    "    def __init__(self, name , email):\n",
    "\n",
    "        self.name = name\n",
    "        self.email = email\n",
    "\n",
    "    @classmethod\n",
    "    def change_number(cls, mobile):\n",
    "        pwskills.mobile_num = mobile\n",
    "\n",
    "    @classmethod\n",
    "    def details(cls, name, email):\n",
    "        return cls(name, email)\n",
    "\n",
    "    def students_details(self):\n",
    "        print(self.name, self.email, pwskills2.mobile_num)\n",
    "    "
   ]
  },
  {
   "cell_type": "code",
   "execution_count": 45,
   "id": "8e393c72-9565-4922-b29c-07690848ae65",
   "metadata": {},
   "outputs": [],
   "source": [
    "def course_details(cls, course_name):\n",
    "    print('course name is', course_name)"
   ]
  },
  {
   "cell_type": "code",
   "execution_count": 46,
   "id": "50225d3a-1bc4-4c2a-b4bc-74992aebafb7",
   "metadata": {},
   "outputs": [],
   "source": [
    "pwskills3.course_details = classmethod(course_details)"
   ]
  },
  {
   "cell_type": "code",
   "execution_count": 47,
   "id": "658f0490-2f07-4d9e-8476-965307ea26f0",
   "metadata": {},
   "outputs": [
    {
     "name": "stdout",
     "output_type": "stream",
     "text": [
      "course name is data science masters\n"
     ]
    }
   ],
   "source": [
    "pwskills3.course_details(\"data science masters\")"
   ]
  },
  {
   "cell_type": "code",
   "execution_count": 49,
   "id": "9429b18b-2c2d-497e-8bf8-7e3e7b2007c7",
   "metadata": {},
   "outputs": [],
   "source": [
    "def mentor(cls, list_of_mentor):\n",
    "    print(list_of_mentor)"
   ]
  },
  {
   "cell_type": "code",
   "execution_count": 51,
   "id": "db59b2ca-874e-403c-8da8-c227a5017dbc",
   "metadata": {},
   "outputs": [],
   "source": [
    "pwskills3.mentor = classmethod(mentor)"
   ]
  },
  {
   "cell_type": "code",
   "execution_count": 52,
   "id": "6050a095-4e69-4710-8c63-5bba0dc59694",
   "metadata": {},
   "outputs": [
    {
     "name": "stdout",
     "output_type": "stream",
     "text": [
      "['sudanshu', 'krish naik']\n"
     ]
    }
   ],
   "source": [
    "pwskills3.mentor(['sudanshu', 'krish naik'])"
   ]
  },
  {
   "cell_type": "code",
   "execution_count": 60,
   "id": "b75a45fe-c0d8-4ee8-a80c-2674b52eb761",
   "metadata": {},
   "outputs": [],
   "source": [
    "class pwskills4:\n",
    "    mobile_num = 987654321\n",
    "    def __init__(self, name, email):\n",
    "        self.name = name\n",
    "        self.email = email\n",
    "\n",
    "    @classmethod\n",
    "    def change_number(cls, mobile):\n",
    "        pwskills4.mobile_num = mobile\n",
    "\n",
    "    @classmethod\n",
    "    def details(cls, name, email):\n",
    "        return cls(name, email)\n",
    "\n",
    "    def students_details(self):\n",
    "        print(self.name, self.email, pwskills4.mobile_num)"
   ]
  },
  {
   "cell_type": "code",
   "execution_count": 55,
   "id": "ad77e438-063a-4fd0-984e-f414648abdf8",
   "metadata": {},
   "outputs": [],
   "source": [
    "del pwskills4.change_number"
   ]
  },
  {
   "cell_type": "code",
   "execution_count": 67,
   "id": "a14ee52d-9f86-4052-93ed-83f513a3a6d2",
   "metadata": {},
   "outputs": [],
   "source": [
    "delattr(pwskills4,'details')"
   ]
  },
  {
   "cell_type": "code",
   "execution_count": 66,
   "id": "95790d31-d09e-46ff-a85d-9238770ed9ac",
   "metadata": {},
   "outputs": [
    {
     "data": {
      "text/plain": [
       "7865412"
      ]
     },
     "execution_count": 66,
     "metadata": {},
     "output_type": "execute_result"
    }
   ],
   "source": [
    "pwskills4.mobile_num"
   ]
  },
  {
   "cell_type": "code",
   "execution_count": 68,
   "id": "194e59db-d899-4cf3-b6fa-3b66c4077a87",
   "metadata": {},
   "outputs": [],
   "source": [
    "delattr(pwskills4, 'students_details')"
   ]
  },
  {
   "cell_type": "code",
   "execution_count": 71,
   "id": "442bf53c-d680-4090-ba36-4d17653860ef",
   "metadata": {},
   "outputs": [
    {
     "ename": "AttributeError",
     "evalue": "type object 'pwskills4' has no attribute 'mobile_num'",
     "output_type": "error",
     "traceback": [
      "\u001b[1;31m---------------------------------------------------------------------------\u001b[0m",
      "\u001b[1;31mAttributeError\u001b[0m                            Traceback (most recent call last)",
      "Cell \u001b[1;32mIn[71], line 1\u001b[0m\n\u001b[1;32m----> 1\u001b[0m \u001b[38;5;28mdelattr\u001b[39m(pwskills4, \u001b[38;5;124m'\u001b[39m\u001b[38;5;124mmobile_num\u001b[39m\u001b[38;5;124m'\u001b[39m)\n",
      "\u001b[1;31mAttributeError\u001b[0m: type object 'pwskills4' has no attribute 'mobile_num'"
     ]
    }
   ],
   "source": [
    "delattr(pwskills4, 'mobile_num')"
   ]
  },
  {
   "cell_type": "code",
   "execution_count": null,
   "id": "9eaf08af-e218-477f-a341-bd930d98dc19",
   "metadata": {},
   "outputs": [],
   "source": []
  }
 ],
 "metadata": {
  "kernelspec": {
   "display_name": "Python 3 (ipykernel)",
   "language": "python",
   "name": "python3"
  },
  "language_info": {
   "codemirror_mode": {
    "name": "ipython",
    "version": 3
   },
   "file_extension": ".py",
   "mimetype": "text/x-python",
   "name": "python",
   "nbconvert_exporter": "python",
   "pygments_lexer": "ipython3",
   "version": "3.11.7"
  },
  "widgets": {
   "application/vnd.jupyter.widget-state+json": {
    "state": {},
    "version_major": 2,
    "version_minor": 0
   }
  }
 },
 "nbformat": 4,
 "nbformat_minor": 5
}
