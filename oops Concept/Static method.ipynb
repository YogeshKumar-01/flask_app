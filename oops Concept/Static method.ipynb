{
 "cells": [
  {
   "cell_type": "code",
   "execution_count": 2,
   "id": "77243ee1-3e3b-4efe-aa84-18d2d8894a0f",
   "metadata": {},
   "outputs": [],
   "source": [
    "class pwskills:\n",
    "\n",
    "    def student_details(self, name, email_id, mobile):\n",
    "        print(name, email_id, mobile)\n",
    "        "
   ]
  },
  {
   "cell_type": "code",
   "execution_count": 3,
   "id": "48953d20-9b1e-41bd-b877-698fd87fd05c",
   "metadata": {},
   "outputs": [],
   "source": [
    "pw = pwskills()"
   ]
  },
  {
   "cell_type": "code",
   "execution_count": 4,
   "id": "fe47056a-57c5-4750-aa9c-e1507bb0d63d",
   "metadata": {},
   "outputs": [
    {
     "name": "stdout",
     "output_type": "stream",
     "text": [
      "Yogesh yogesh123@gmail.com 98745653221\n"
     ]
    }
   ],
   "source": [
    "pw.student_details(\"Yogesh\", \"yogesh123@gmail.com\", 98745653221)"
   ]
  },
  {
   "cell_type": "code",
   "execution_count": 12,
   "id": "e7f45906-9cda-4cbd-a16f-4701c86f907a",
   "metadata": {},
   "outputs": [],
   "source": [
    "class pwskills1:\n",
    "\n",
    "    def student_details(self, name, mail_id, number):\n",
    "        print(name, mail_id, number)\n",
    "\n",
    "    @staticmethod\n",
    "    def mentor_class(list_mentor):\n",
    "        print(list_mentor)\n",
    "\n",
    "    def mentor(self, mentor_list):\n",
    "        print(mentor_list)\n"
   ]
  },
  {
   "cell_type": "raw",
   "id": "24293ce9-f230-4918-8c31-beac703f2c7d",
   "metadata": {},
   "source": []
  },
  {
   "cell_type": "code",
   "execution_count": 7,
   "id": "73a6b4fb-a690-4626-a265-96669d4e8e9d",
   "metadata": {},
   "outputs": [
    {
     "name": "stdout",
     "output_type": "stream",
     "text": [
      "['sudh', 'krish']\n"
     ]
    }
   ],
   "source": [
    "pwskills1.mentor_class(['sudh', 'krish'])"
   ]
  },
  {
   "cell_type": "code",
   "execution_count": 13,
   "id": "06d6d4f2-7963-4468-881f-50a1906b7440",
   "metadata": {},
   "outputs": [],
   "source": [
    "stu1 = pwskills1()"
   ]
  },
  {
   "cell_type": "code",
   "execution_count": 10,
   "id": "f9c61a33-b8e2-4e29-a69c-5841b69ac1e0",
   "metadata": {},
   "outputs": [],
   "source": [
    "stu2 = pwskills1()"
   ]
  },
  {
   "cell_type": "code",
   "execution_count": 14,
   "id": "3469a805-9563-485e-bcd0-8b84b681f335",
   "metadata": {},
   "outputs": [],
   "source": [
    "stu3 = pwskills1()"
   ]
  },
  {
   "cell_type": "code",
   "execution_count": 15,
   "id": "44db415f-226b-4dfa-b872-caaea42093de",
   "metadata": {},
   "outputs": [
    {
     "name": "stdout",
     "output_type": "stream",
     "text": [
      "['sudh', 'krish']\n"
     ]
    }
   ],
   "source": [
    "stu1.mentor(['sudh', 'krish'])"
   ]
  },
  {
   "cell_type": "code",
   "execution_count": 45,
   "id": "5ff8eebf-1596-4032-95a6-6b36b7a99a8d",
   "metadata": {},
   "outputs": [],
   "source": [
    "class pwskills2:\n",
    "    def student_details(self, name, mail_id, number):\n",
    "        print(name, mail_id, number)\n",
    "\n",
    "    @staticmethod\n",
    "    def mentor_mail_id(mail_id_mentor):\n",
    "        print(mail_id_mentor)\n",
    "\n",
    "    @staticmethod\n",
    "    def mentor_class(list_mentor):\n",
    "        pwskills2.mentor_mail_id(['krish@123gmail.com', 'sudh@321gmail.com'])\n",
    "        print(list_mentor)\n",
    "\n",
    "    @classmethod\n",
    "    def class_name(cls):\n",
    "        cls.mentor_class(['krish', 'sudh'])\n",
    "\n",
    "    def mentor(self, mentor_list):\n",
    "        print(mentor_list)\n",
    "        self.mentor_class(['krish', 'sudh'])"
   ]
  },
  {
   "cell_type": "code",
   "execution_count": 40,
   "id": "bb65b477-0673-4b12-8fd4-1e062f0a2726",
   "metadata": {},
   "outputs": [
    {
     "name": "stdout",
     "output_type": "stream",
     "text": [
      "['krish@123gmail.com', 'sudh@321gmail.com']\n",
      "['krish', 'sudh']\n"
     ]
    }
   ],
   "source": [
    "pwskills2.mentor_class(['krish','sudh'])"
   ]
  },
  {
   "cell_type": "code",
   "execution_count": 24,
   "id": "fd503b02-a219-4aa7-8c46-fcb1d84059d5",
   "metadata": {},
   "outputs": [
    {
     "name": "stdout",
     "output_type": "stream",
     "text": [
      "['krish', 'sudh']\n"
     ]
    }
   ],
   "source": [
    "pwskills2.class_name()"
   ]
  },
  {
   "cell_type": "code",
   "execution_count": 46,
   "id": "6fad1a8f-68f3-4828-b69d-822b37a4756b",
   "metadata": {},
   "outputs": [],
   "source": [
    "pw = pwskills2()"
   ]
  },
  {
   "cell_type": "code",
   "execution_count": 47,
   "id": "ea8a5904-89b3-41b0-94fe-be7caedf3870",
   "metadata": {},
   "outputs": [
    {
     "name": "stdout",
     "output_type": "stream",
     "text": [
      "['krish', 'sudh']\n",
      "['krish@123gmail.com', 'sudh@321gmail.com']\n",
      "['krish', 'sudh']\n"
     ]
    }
   ],
   "source": [
    "pw.mentor(['krish', 'sudh'])"
   ]
  },
  {
   "cell_type": "code",
   "execution_count": null,
   "id": "1b657e72-b8d6-45a5-8835-1d2d4ff67979",
   "metadata": {},
   "outputs": [],
   "source": []
  },
  {
   "cell_type": "code",
   "execution_count": null,
   "id": "3ad892ae-aca9-4b0f-a376-9163a085af83",
   "metadata": {},
   "outputs": [],
   "source": []
  },
  {
   "cell_type": "code",
   "execution_count": null,
   "id": "61c8029c-3909-4747-a58f-11bbb91dcf8c",
   "metadata": {},
   "outputs": [],
   "source": []
  },
  {
   "cell_type": "code",
   "execution_count": null,
   "id": "9e0c2f4d-9367-4950-8393-96d5b3557c65",
   "metadata": {},
   "outputs": [],
   "source": []
  },
  {
   "cell_type": "code",
   "execution_count": null,
   "id": "bf79b2eb-6468-4556-a37c-4f237e2bbde7",
   "metadata": {},
   "outputs": [],
   "source": []
  },
  {
   "cell_type": "code",
   "execution_count": null,
   "id": "b6c053c7-4748-41c2-90cc-221cfc3991ad",
   "metadata": {},
   "outputs": [],
   "source": []
  },
  {
   "cell_type": "code",
   "execution_count": null,
   "id": "54bfbbcb-5d69-40dd-b4a2-bebbf0fcaa5b",
   "metadata": {},
   "outputs": [],
   "source": []
  },
  {
   "cell_type": "code",
   "execution_count": null,
   "id": "bf112702-9428-4705-9eeb-f793bc339b58",
   "metadata": {},
   "outputs": [],
   "source": []
  },
  {
   "cell_type": "code",
   "execution_count": null,
   "id": "81c5c79e-e07d-4b68-81a4-b6e890a18bea",
   "metadata": {},
   "outputs": [],
   "source": []
  },
  {
   "cell_type": "code",
   "execution_count": null,
   "id": "8eea8fb5-c044-4e15-8ae0-c58503ed64c6",
   "metadata": {},
   "outputs": [],
   "source": []
  }
 ],
 "metadata": {
  "kernelspec": {
   "display_name": "Python 3 (ipykernel)",
   "language": "python",
   "name": "python3"
  },
  "language_info": {
   "codemirror_mode": {
    "name": "ipython",
    "version": 3
   },
   "file_extension": ".py",
   "mimetype": "text/x-python",
   "name": "python",
   "nbconvert_exporter": "python",
   "pygments_lexer": "ipython3",
   "version": "3.11.7"
  },
  "widgets": {
   "application/vnd.jupyter.widget-state+json": {
    "state": {},
    "version_major": 2,
    "version_minor": 0
   }
  }
 },
 "nbformat": 4,
 "nbformat_minor": 5
}
