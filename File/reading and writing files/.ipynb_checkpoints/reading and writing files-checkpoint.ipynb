{
 "cells": [
  {
   "cell_type": "code",
   "execution_count": 43,
   "id": "af441297-a4d8-4674-86ee-7a4fea751ce9",
   "metadata": {},
   "outputs": [],
   "source": [
    "data = {\n",
    "    'name' : 'sudh',\n",
    "    'mail_id' : 'sudh@gmail.com',\n",
    "    'phone_number' : 9874563210,\n",
    "    'subject' : ['data science', 'big data', 'data analytics']\n",
    "    \n",
    "}"
   ]
  },
  {
   "cell_type": "code",
   "execution_count": 44,
   "id": "e2647bb4-e50c-4bd2-89c6-19808565cce1",
   "metadata": {},
   "outputs": [],
   "source": [
    "import json"
   ]
  },
  {
   "cell_type": "code",
   "execution_count": 45,
   "id": "d0e799e3-2da4-49b9-96c8-a2c12165ec4a",
   "metadata": {},
   "outputs": [],
   "source": [
    "with open('data.json', 'w') as f:\n",
    "    json.dump(data, f)"
   ]
  },
  {
   "cell_type": "code",
   "execution_count": 46,
   "id": "42d1422f-f118-4d82-b664-b4d0c6511cc1",
   "metadata": {},
   "outputs": [],
   "source": [
    "with open('data.json', 'r') as f:\n",
    "    data1 = json.load(f)"
   ]
  },
  {
   "cell_type": "code",
   "execution_count": 47,
   "id": "7a337ed5-f9ab-465c-abc6-25844d7f64f3",
   "metadata": {},
   "outputs": [
    {
     "data": {
      "text/plain": [
       "{'name': 'sudh',\n",
       " 'mail_id': 'sudh@gmail.com',\n",
       " 'phone_number': 9874563210,\n",
       " 'subject': ['data science', 'big data', 'data analytics']}"
      ]
     },
     "execution_count": 47,
     "metadata": {},
     "output_type": "execute_result"
    }
   ],
   "source": [
    "data1"
   ]
  },
  {
   "cell_type": "code",
   "execution_count": 48,
   "id": "16827d68-dd2e-4ef0-b1df-08372a02bd13",
   "metadata": {},
   "outputs": [
    {
     "data": {
      "text/plain": [
       "['data science', 'big data', 'data analytics']"
      ]
     },
     "execution_count": 48,
     "metadata": {},
     "output_type": "execute_result"
    }
   ],
   "source": [
    "data1['subject']"
   ]
  },
  {
   "cell_type": "code",
   "execution_count": 49,
   "id": "ec424fc7-ab82-468d-8737-664c7f85354f",
   "metadata": {},
   "outputs": [
    {
     "data": {
      "text/plain": [
       "'big data'"
      ]
     },
     "execution_count": 49,
     "metadata": {},
     "output_type": "execute_result"
    }
   ],
   "source": [
    "data1['subject'][1]"
   ]
  },
  {
   "cell_type": "code",
   "execution_count": 50,
   "id": "19c109db-000c-4d11-8db9-5e575a13f37e",
   "metadata": {},
   "outputs": [],
   "source": [
    "import csv"
   ]
  },
  {
   "cell_type": "code",
   "execution_count": 51,
   "id": "c47be12e-49a5-46a4-bad6-3b41f088a93b",
   "metadata": {},
   "outputs": [],
   "source": [
    "data2 = [\n",
    "    ['name', 'email_id', 'phone_number'],\n",
    "    ['sudh', 'sudh@gmail.com', 9874563210],\n",
    "    ['krish', 'krish@gmail.com', 9632587410]\n",
    "]"
   ]
  },
  {
   "cell_type": "code",
   "execution_count": 52,
   "id": "42b39ff7-8246-4157-9342-d0720bd333c3",
   "metadata": {},
   "outputs": [],
   "source": [
    "with open('data2.csv', 'w') as f:\n",
    "    writer = csv.writer(f)\n",
    "\n",
    "    for i in data2:\n",
    "        writer.writerow(i)"
   ]
  },
  {
   "cell_type": "code",
   "execution_count": 53,
   "id": "0991416e-05e4-4795-8d52-6e9994614cba",
   "metadata": {},
   "outputs": [
    {
     "name": "stdout",
     "output_type": "stream",
     "text": [
      "['name', 'email_id', 'phone_number']\n",
      "[]\n",
      "['sudh', 'sudh@gmail.com', '9874563210']\n",
      "[]\n",
      "['krish', 'krish@gmail.com', '9632587410']\n",
      "[]\n"
     ]
    }
   ],
   "source": [
    "with open('data2.csv', 'r') as f:\n",
    "    read_data = csv.reader(f)\n",
    "\n",
    "    for i in read_data:\n",
    "        print(i)"
   ]
  },
  {
   "cell_type": "code",
   "execution_count": 55,
   "id": "9d2e3eda-40c8-4e55-93a4-c466415ca860",
   "metadata": {},
   "outputs": [],
   "source": [
    " with open('test.bin', 'wb') as f:\n",
    "     f.write(b'\\x01\\x02\\x03\\x3454235')"
   ]
  },
  {
   "cell_type": "code",
   "execution_count": 56,
   "id": "902be0f5-c600-4004-8aa3-1f1ca9ccec71",
   "metadata": {},
   "outputs": [
    {
     "name": "stdout",
     "output_type": "stream",
     "text": [
      "b'\\x01\\x02\\x03454235'\n"
     ]
    }
   ],
   "source": [
    "with open('test.bin', 'rb') as f:\n",
    "    print(f.read())"
   ]
  },
  {
   "cell_type": "code",
   "execution_count": null,
   "id": "d202acb8-4345-4a52-b562-84a0c77e84e9",
   "metadata": {},
   "outputs": [],
   "source": []
  }
 ],
 "metadata": {
  "kernelspec": {
   "display_name": "Python 3 (ipykernel)",
   "language": "python",
   "name": "python3"
  },
  "language_info": {
   "codemirror_mode": {
    "name": "ipython",
    "version": 3
   },
   "file_extension": ".py",
   "mimetype": "text/x-python",
   "name": "python",
   "nbconvert_exporter": "python",
   "pygments_lexer": "ipython3",
   "version": "3.11.7"
  },
  "widgets": {
   "application/vnd.jupyter.widget-state+json": {
    "state": {},
    "version_major": 2,
    "version_minor": 0
   }
  }
 },
 "nbformat": 4,
 "nbformat_minor": 5
}
