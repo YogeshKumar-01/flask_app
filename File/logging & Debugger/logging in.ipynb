{
 "cells": [
  {
   "cell_type": "code",
   "execution_count": 36,
   "id": "42255f99-e713-475b-b340-06663674707a",
   "metadata": {},
   "outputs": [
    {
     "name": "stdout",
     "output_type": "stream",
     "text": [
      "this is my print\n"
     ]
    }
   ],
   "source": [
    "print('this is my print')"
   ]
  },
  {
   "cell_type": "code",
   "execution_count": 37,
   "id": "4c25703a-043c-452f-a579-694d30728ffe",
   "metadata": {},
   "outputs": [],
   "source": [
    "import logging"
   ]
  },
  {
   "cell_type": "code",
   "execution_count": 38,
   "id": "778f8b7a-e257-4e73-818f-f2a57127160f",
   "metadata": {},
   "outputs": [],
   "source": [
    "logging.basicConfig(filename = 'test.log', level = logging.INFO)"
   ]
  },
  {
   "cell_type": "markdown",
   "id": "8b603c2c-1e1f-4c06-9e4d-785a456dcc3a",
   "metadata": {},
   "source": [
    "logging if your are set level 2 then you can't use level 1 but you can use level 2-6.\n",
    "1.NOTSET\n",
    "2.DEBUG\n",
    "3.INFO\n",
    "4.WARNING\n",
    "5.ERROR\n",
    "6.CRITICAL"
   ]
  },
  {
   "cell_type": "code",
   "execution_count": 39,
   "id": "602cd049-c810-402e-95df-22fe79b260dd",
   "metadata": {},
   "outputs": [],
   "source": [
    "logging.info('log this line of execution')"
   ]
  },
  {
   "cell_type": "code",
   "execution_count": 40,
   "id": "8d0a0ba4-8f32-488b-b3c6-76ed3533e87d",
   "metadata": {},
   "outputs": [],
   "source": [
    "logging.info('this is my print')"
   ]
  },
  {
   "cell_type": "code",
   "execution_count": 41,
   "id": "56680b20-af74-4ff7-8eea-fb1f194fc4b8",
   "metadata": {},
   "outputs": [],
   "source": [
    "logging.debug('this is my debug')"
   ]
  },
  {
   "cell_type": "code",
   "execution_count": 42,
   "id": "0e142645-31bd-4000-b1f7-dd44b94eb9ad",
   "metadata": {},
   "outputs": [],
   "source": [
    "logging.warning('this is my warning')"
   ]
  },
  {
   "cell_type": "code",
   "execution_count": 43,
   "id": "51139feb-aba5-4e6c-bc05-8d10cbe35ba1",
   "metadata": {},
   "outputs": [],
   "source": [
    "logging.error('this is my error')"
   ]
  },
  {
   "cell_type": "code",
   "execution_count": 44,
   "id": "dc11b6a6-f6cd-4bd6-b4ca-14d2c58a0519",
   "metadata": {},
   "outputs": [],
   "source": [
    "logging.critical('this is my critical msg')"
   ]
  },
  {
   "cell_type": "code",
   "execution_count": 45,
   "id": "9bf7f1fa-0dd0-4af2-832c-bf61b16dee32",
   "metadata": {},
   "outputs": [],
   "source": [
    "logging.shutdown()"
   ]
  },
  {
   "cell_type": "code",
   "execution_count": 46,
   "id": "71c38f5d-89d6-4aee-8d4d-782fae9a5215",
   "metadata": {},
   "outputs": [],
   "source": [
    "import logging"
   ]
  },
  {
   "cell_type": "code",
   "execution_count": 47,
   "id": "49af7252-3c9b-4364-8de4-d4d4d71e8127",
   "metadata": {},
   "outputs": [],
   "source": [
    "logging.basicConfig(filename = 'test1.log', level = logging.DEBUG, format = '%(asctime)s %(message)s')"
   ]
  },
  {
   "cell_type": "code",
   "execution_count": null,
   "id": "f73e702a-eb4b-41bb-9509-c8f0adff0752",
   "metadata": {},
   "outputs": [],
   "source": []
  },
  {
   "cell_type": "code",
   "execution_count": 48,
   "id": "865f4779-9c80-441e-910a-b968c160d6de",
   "metadata": {},
   "outputs": [],
   "source": [
    "logging.info('this is my info logging')\n",
    "logging.error('this is my error msg')\n",
    "logging.critical('this is my critical')"
   ]
  },
  {
   "cell_type": "code",
   "execution_count": 49,
   "id": "2946f4ef-593d-45bb-8891-6fd204615bff",
   "metadata": {},
   "outputs": [],
   "source": [
    "logging.shutdown()"
   ]
  },
  {
   "cell_type": "code",
   "execution_count": 59,
   "id": "b31b1ee3-14d9-4311-a13e-edf55104ad5c",
   "metadata": {},
   "outputs": [],
   "source": [
    "import logging"
   ]
  },
  {
   "cell_type": "code",
   "execution_count": 60,
   "id": "b3064e3d-0637-472f-a783-9abef8775174",
   "metadata": {},
   "outputs": [],
   "source": [
    "logging.basicConfig(filename = 'test2.log', level = logging.DEBUG, format = '%(asctime)s %(name)s %(levelname)s %(message)s')\n"
   ]
  },
  {
   "cell_type": "code",
   "execution_count": 61,
   "id": "3377a6ba-9a94-4f37-873a-000dbc077700",
   "metadata": {},
   "outputs": [],
   "source": [
    "logging.info('this is my info logging')\n",
    "logging.error('this is my error msg')\n",
    "logging.critical('this is my critical')"
   ]
  },
  {
   "cell_type": "code",
   "execution_count": 62,
   "id": "74204529-f57f-450b-b35a-7d64774f057d",
   "metadata": {},
   "outputs": [],
   "source": [
    "l = [1,2,3,5,[2,3,5,5],'sudh', 'kumar']"
   ]
  },
  {
   "cell_type": "code",
   "execution_count": 63,
   "id": "f242751e-71bc-4b57-bac7-67305115a9df",
   "metadata": {},
   "outputs": [],
   "source": [
    "l1_int = []\n",
    "l2_str = []\n",
    "for i in l:\n",
    "    logging.info(\"we are iterating through our list and our local var is i {}\".format(l ))\n",
    "    if type(i) == list:\n",
    "        logging.info('i am inside if statement and i am trying to check list type' + str(i))\n",
    "        for j in i:\n",
    "            logging.info('i am in anothe for loop for list inside list element' + str(j))\n",
    "            if type(j) == int:\n",
    "                logging.info('i am inside if statement')\n",
    "                l1_int.append(j)\n",
    "    elif type(i) == int:\n",
    "        l1_int.append(i)\n",
    "\n",
    "    else:\n",
    "        if type(i) == str:\n",
    "            l2_str.append(i)\n",
    "logging.info('my final result for int is {l1} and str is {l2}'.format(l1 = l1_int, l2 = l2_str))"
   ]
  },
  {
   "cell_type": "code",
   "execution_count": 55,
   "id": "64bfe63e-6334-42eb-8c6f-0ec30ead2809",
   "metadata": {},
   "outputs": [
    {
     "data": {
      "text/plain": [
       "[1, 2, 3, 5, 2, 3, 5, 5]"
      ]
     },
     "execution_count": 55,
     "metadata": {},
     "output_type": "execute_result"
    }
   ],
   "source": [
    "l1_int"
   ]
  },
  {
   "cell_type": "code",
   "execution_count": 56,
   "id": "502f43c9-21fc-4d0d-9afb-f694397ff542",
   "metadata": {},
   "outputs": [
    {
     "data": {
      "text/plain": [
       "['sudh', 'kumar']"
      ]
     },
     "execution_count": 56,
     "metadata": {},
     "output_type": "execute_result"
    }
   ],
   "source": [
    "l2_str"
   ]
  },
  {
   "cell_type": "code",
   "execution_count": null,
   "id": "3beb0ff3-606c-49c9-b136-b10d7d9fcc82",
   "metadata": {},
   "outputs": [],
   "source": []
  },
  {
   "cell_type": "code",
   "execution_count": null,
   "id": "d0128fbd-b1b1-468c-a507-382f2e313555",
   "metadata": {},
   "outputs": [],
   "source": []
  },
  {
   "cell_type": "code",
   "execution_count": null,
   "id": "c9fabbea-ff1e-436f-a029-c5ab56085818",
   "metadata": {},
   "outputs": [],
   "source": []
  },
  {
   "cell_type": "code",
   "execution_count": null,
   "id": "c0361824-5cda-4c39-8449-f154e29ee991",
   "metadata": {},
   "outputs": [],
   "source": []
  },
  {
   "cell_type": "code",
   "execution_count": null,
   "id": "13fad1ad-228d-40dc-a92e-01ed9dad2903",
   "metadata": {},
   "outputs": [],
   "source": []
  }
 ],
 "metadata": {
  "kernelspec": {
   "display_name": "Python 3 (ipykernel)",
   "language": "python",
   "name": "python3"
  },
  "language_info": {
   "codemirror_mode": {
    "name": "ipython",
    "version": 3
   },
   "file_extension": ".py",
   "mimetype": "text/x-python",
   "name": "python",
   "nbconvert_exporter": "python",
   "pygments_lexer": "ipython3",
   "version": "3.11.7"
  },
  "widgets": {
   "application/vnd.jupyter.widget-state+json": {
    "state": {},
    "version_major": 2,
    "version_minor": 0
   }
  }
 },
 "nbformat": 4,
 "nbformat_minor": 5
}
