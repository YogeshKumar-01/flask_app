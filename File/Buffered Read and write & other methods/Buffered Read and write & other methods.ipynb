{
 "cells": [
  {
   "cell_type": "code",
   "execution_count": 2,
   "id": "cf844942-adf6-4281-84a5-202cba1a0a9a",
   "metadata": {},
   "outputs": [],
   "source": [
    "import io"
   ]
  },
  {
   "cell_type": "code",
   "execution_count": 5,
   "id": "62f5c2e9-206c-4717-8c96-130e32052c20",
   "metadata": {},
   "outputs": [],
   "source": [
    "with open('test1.txt', 'wb') as f:\n",
    "    file = io.BufferedWriter(f)\n",
    "\n",
    "    file.write(b'This is my first line\\n')\n",
    "    file.write(b'This is my second line\\n')\n",
    "    file.write(b'Data science Masters course is highly curated and uniquely designed according to industry standards.')\n",
    "    file.flush()"
   ]
  },
  {
   "cell_type": "code",
   "execution_count": 6,
   "id": "19b1c5fe-274b-4132-8455-3a5e080f8219",
   "metadata": {},
   "outputs": [
    {
     "name": "stdout",
     "output_type": "stream",
     "text": [
      "b'This is my first line\\nThis is my second line\\nData science Masters course is highly curated and uniquely designed according to industry standards.'\n"
     ]
    }
   ],
   "source": [
    "with open('test1.txt', 'rb') as f:\n",
    "\n",
    "    file = io.BufferedReader(f)\n",
    "    data = file.read()\n",
    "    print(data)"
   ]
  }
 ],
 "metadata": {
  "kernelspec": {
   "display_name": "Python 3 (ipykernel)",
   "language": "python",
   "name": "python3"
  },
  "language_info": {
   "codemirror_mode": {
    "name": "ipython",
    "version": 3
   },
   "file_extension": ".py",
   "mimetype": "text/x-python",
   "name": "python",
   "nbconvert_exporter": "python",
   "pygments_lexer": "ipython3",
   "version": "3.11.7"
  },
  "widgets": {
   "application/vnd.jupyter.widget-state+json": {
    "state": {},
    "version_major": 2,
    "version_minor": 0
   }
  }
 },
 "nbformat": 4,
 "nbformat_minor": 5
}
