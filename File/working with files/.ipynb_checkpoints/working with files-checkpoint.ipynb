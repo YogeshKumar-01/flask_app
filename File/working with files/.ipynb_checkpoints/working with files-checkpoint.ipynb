{
 "cells": [
  {
   "cell_type": "code",
   "execution_count": 20,
   "id": "13c1931c-8de4-4da8-adfe-e2ce748d3655",
   "metadata": {},
   "outputs": [],
   "source": [
    "f = open('test.txt', 'w')"
   ]
  },
  {
   "cell_type": "code",
   "execution_count": 21,
   "id": "ab67287a-bde7-4b77-aec4-39b28e98b7fa",
   "metadata": {},
   "outputs": [
    {
     "data": {
      "text/plain": [
       "'E:\\\\Python with pw(H.W)\\\\File\\\\abc'"
      ]
     },
     "execution_count": 21,
     "metadata": {},
     "output_type": "execute_result"
    }
   ],
   "source": [
    "pwd"
   ]
  },
  {
   "cell_type": "code",
   "execution_count": 22,
   "id": "3abceb58-9571-40cc-83a0-12bf2315db40",
   "metadata": {},
   "outputs": [
    {
     "name": "stdout",
     "output_type": "stream",
     "text": [
      " Volume in drive E is New Volume\n",
      " Volume Serial Number is B455-9D3F\n",
      "\n",
      " Directory of E:\\Python with pw(H.W)\\File\\abc\n",
      "\n",
      "27-07-2024  10:34    <DIR>          .\n",
      "27-07-2024  10:35    <DIR>          ..\n",
      "27-07-2024  10:34    <DIR>          .ipynb_checkpoints\n",
      "27-07-2024  10:35                 0 test.txt\n",
      "               1 File(s)              0 bytes\n",
      "               3 Dir(s)  89,673,928,704 bytes free\n"
     ]
    }
   ],
   "source": [
    "ls"
   ]
  },
  {
   "cell_type": "code",
   "execution_count": 23,
   "id": "1ae7d615-f731-4ec2-bde9-ff418063d0ed",
   "metadata": {},
   "outputs": [
    {
     "name": "stdout",
     "output_type": "stream",
     "text": [
      "[WinError 2] The system cannot find the file specified: 'abc'\n",
      "E:\\Python with pw(H.W)\\File\\abc\n"
     ]
    }
   ],
   "source": [
    "cd abc"
   ]
  },
  {
   "cell_type": "code",
   "execution_count": 24,
   "id": "e0923936-cb9e-41bd-9f0b-f7b99a9ee369",
   "metadata": {},
   "outputs": [
    {
     "name": "stdout",
     "output_type": "stream",
     "text": [
      " Volume in drive E is New Volume\n",
      " Volume Serial Number is B455-9D3F\n",
      "\n",
      " Directory of E:\\Python with pw(H.W)\\File\\abc\n",
      "\n",
      "27-07-2024  10:34    <DIR>          .\n",
      "27-07-2024  10:35    <DIR>          ..\n",
      "27-07-2024  10:34    <DIR>          .ipynb_checkpoints\n",
      "27-07-2024  10:35                 0 test.txt\n",
      "               1 File(s)              0 bytes\n",
      "               3 Dir(s)  89,673,928,704 bytes free\n"
     ]
    }
   ],
   "source": [
    "ls"
   ]
  },
  {
   "cell_type": "code",
   "execution_count": 25,
   "id": "ccda7eaa-9ccf-48f2-add8-c777d75023af",
   "metadata": {},
   "outputs": [
    {
     "data": {
      "text/plain": [
       "30"
      ]
     },
     "execution_count": 25,
     "metadata": {},
     "output_type": "execute_result"
    }
   ],
   "source": [
    "f.write('this is my first file to write')"
   ]
  },
  {
   "cell_type": "code",
   "execution_count": 26,
   "id": "3b945d2d-a3eb-4e7f-8b45-87e9e269ba6f",
   "metadata": {},
   "outputs": [],
   "source": [
    "f.close()"
   ]
  },
  {
   "cell_type": "code",
   "execution_count": 27,
   "id": "0f1e6b15-a13c-4fa9-b17b-03846ee9c1b6",
   "metadata": {},
   "outputs": [],
   "source": [
    "f = open('test.txt', 'w')"
   ]
  },
  {
   "cell_type": "code",
   "execution_count": 28,
   "id": "9f7a186f-3a69-4083-8257-2d7a05ff956b",
   "metadata": {},
   "outputs": [
    {
     "data": {
      "text/plain": [
       "15"
      ]
     },
     "execution_count": 28,
     "metadata": {},
     "output_type": "execute_result"
    }
   ],
   "source": [
    "f.write('this is my file')"
   ]
  },
  {
   "cell_type": "code",
   "execution_count": 29,
   "id": "998c862f-ff27-48a4-9fd3-85b72d88a914",
   "metadata": {},
   "outputs": [],
   "source": [
    "f.close()"
   ]
  },
  {
   "cell_type": "code",
   "execution_count": 30,
   "id": "b0624f62-06e1-4901-b412-3b17692f299c",
   "metadata": {},
   "outputs": [],
   "source": [
    "f = open('test.txt','a')"
   ]
  },
  {
   "cell_type": "code",
   "execution_count": 31,
   "id": "0aa43a7b-ddb1-46cb-803e-9a92fd99b3b6",
   "metadata": {},
   "outputs": [
    {
     "data": {
      "text/plain": [
       "112"
      ]
     },
     "execution_count": 31,
     "metadata": {},
     "output_type": "execute_result"
    }
   ],
   "source": [
    "f.write('data science masters course is highly curated and uniquely designed according to the lastest industry standards.')"
   ]
  },
  {
   "cell_type": "code",
   "execution_count": 32,
   "id": "05d04bb8-ead8-40fc-9c12-eab2be96fd32",
   "metadata": {},
   "outputs": [],
   "source": [
    "f.close()"
   ]
  },
  {
   "cell_type": "code",
   "execution_count": 34,
   "id": "ea992b9a-6d60-41e2-9e90-91b922938d4f",
   "metadata": {},
   "outputs": [],
   "source": [
    "data = open('test.txt', 'r')"
   ]
  },
  {
   "cell_type": "code",
   "execution_count": 35,
   "id": "98bbd4fb-fabe-4af0-90e7-d86a4c7ace4b",
   "metadata": {},
   "outputs": [
    {
     "data": {
      "text/plain": [
       "'this is my filedata science masters course is highly curated and uniquely designed according to the lastest industry standards.'"
      ]
     },
     "execution_count": 35,
     "metadata": {},
     "output_type": "execute_result"
    }
   ],
   "source": [
    "data.read()"
   ]
  },
  {
   "cell_type": "code",
   "execution_count": 36,
   "id": "e5cac12e-1f4e-4622-9e76-8f8577f2a4f2",
   "metadata": {},
   "outputs": [
    {
     "data": {
      "text/plain": [
       "''"
      ]
     },
     "execution_count": 36,
     "metadata": {},
     "output_type": "execute_result"
    }
   ],
   "source": []
  },
  {
   "cell_type": "code",
   "execution_count": 41,
   "id": "1fa5c7e5-9719-46d0-8e23-56bb4a8b1048",
   "metadata": {},
   "outputs": [
    {
     "data": {
      "text/plain": [
       "0"
      ]
     },
     "execution_count": 41,
     "metadata": {},
     "output_type": "execute_result"
    }
   ],
   "source": [
    "data.seek(0)"
   ]
  },
  {
   "cell_type": "code",
   "execution_count": 42,
   "id": "91409de1-1489-45ad-bfbe-d181b6dd3f1c",
   "metadata": {},
   "outputs": [
    {
     "data": {
      "text/plain": [
       "'this is my filedata science masters course is highly curated and uniquely designed according to the lastest industry standards.'"
      ]
     },
     "execution_count": 42,
     "metadata": {},
     "output_type": "execute_result"
    }
   ],
   "source": [
    "data.readline()"
   ]
  },
  {
   "cell_type": "code",
   "execution_count": 43,
   "id": "d37dd893-619a-4a13-94d8-ccfad6f474aa",
   "metadata": {},
   "outputs": [
    {
     "data": {
      "text/plain": [
       "10"
      ]
     },
     "execution_count": 43,
     "metadata": {},
     "output_type": "execute_result"
    }
   ],
   "source": [
    "data.seek(10)"
   ]
  },
  {
   "cell_type": "code",
   "execution_count": 44,
   "id": "765338e7-f2ae-451a-baf8-2d063cf88a1a",
   "metadata": {},
   "outputs": [
    {
     "data": {
      "text/plain": [
       "' filedata science masters course is highly curated and uniquely designed according to the lastest industry standards.'"
      ]
     },
     "execution_count": 44,
     "metadata": {},
     "output_type": "execute_result"
    }
   ],
   "source": [
    "data.read()"
   ]
  },
  {
   "cell_type": "code",
   "execution_count": 50,
   "id": "465aaec6-b094-43d0-884c-16686759da41",
   "metadata": {},
   "outputs": [],
   "source": [
    "data1 = open('test.txt','r')"
   ]
  },
  {
   "cell_type": "code",
   "execution_count": 51,
   "id": "af6e0d78-015a-40ab-aff9-8cb0468a1cda",
   "metadata": {},
   "outputs": [
    {
     "name": "stdout",
     "output_type": "stream",
     "text": [
      "this is my filedata science masters course is highly curated and uniquely designed according to the lastest industry standards.\n"
     ]
    }
   ],
   "source": [
    "for i in data1:\n",
    "    print(i)"
   ]
  },
  {
   "cell_type": "code",
   "execution_count": 52,
   "id": "bf27e53c-c624-4dca-bcc4-d4450ccad37d",
   "metadata": {},
   "outputs": [],
   "source": [
    "import os\n"
   ]
  },
  {
   "cell_type": "code",
   "execution_count": 53,
   "id": "74bcdc0b-52c7-4399-8468-ded74f4e25ec",
   "metadata": {},
   "outputs": [
    {
     "data": {
      "text/plain": [
       "127"
      ]
     },
     "execution_count": 53,
     "metadata": {},
     "output_type": "execute_result"
    }
   ],
   "source": [
    "os.path.getsize('test.txt')"
   ]
  },
  {
   "cell_type": "code",
   "execution_count": 74,
   "id": "75ee5d70-d5ae-4ee7-a7b3-86558a381d7c",
   "metadata": {},
   "outputs": [
    {
     "ename": "PermissionError",
     "evalue": "[WinError 32] The process cannot access the file because it is being used by another process: 'test.txt'",
     "output_type": "error",
     "traceback": [
      "\u001b[1;31m---------------------------------------------------------------------------\u001b[0m",
      "\u001b[1;31mPermissionError\u001b[0m                           Traceback (most recent call last)",
      "Cell \u001b[1;32mIn[74], line 1\u001b[0m\n\u001b[1;32m----> 1\u001b[0m os\u001b[38;5;241m.\u001b[39mremove(\u001b[38;5;124m'\u001b[39m\u001b[38;5;124mtest.txt\u001b[39m\u001b[38;5;124m'\u001b[39m)\n",
      "\u001b[1;31mPermissionError\u001b[0m: [WinError 32] The process cannot access the file because it is being used by another process: 'test.txt'"
     ]
    }
   ],
   "source": [
    "os.remove('test.txt')"
   ]
  },
  {
   "cell_type": "code",
   "execution_count": 79,
   "id": "2441e17a-1258-4c91-a1c2-2f19ff4f3265",
   "metadata": {},
   "outputs": [],
   "source": [
    "f = open('test1.txt','w')"
   ]
  },
  {
   "cell_type": "code",
   "execution_count": 80,
   "id": "0c04f1e6-bd4e-4893-9d8f-61f1e5dd4795",
   "metadata": {},
   "outputs": [
    {
     "data": {
      "text/plain": [
       "127"
      ]
     },
     "execution_count": 80,
     "metadata": {},
     "output_type": "execute_result"
    }
   ],
   "source": [
    "f.write('this is my filedata science masters course is highly curated and uniquely designed according to the lastest industry standards.')"
   ]
  },
  {
   "cell_type": "code",
   "execution_count": 81,
   "id": "2fe98ca0-061a-4aad-ade3-e7334353fac9",
   "metadata": {},
   "outputs": [],
   "source": [
    "f.close()"
   ]
  },
  {
   "cell_type": "code",
   "execution_count": 82,
   "id": "5c59d3c6-0c65-415a-8810-7bee0bb912d2",
   "metadata": {},
   "outputs": [],
   "source": [
    "os.rename('test1.txt', 'new.txt')"
   ]
  },
  {
   "cell_type": "code",
   "execution_count": 83,
   "id": "fca460a9-599e-42b0-afe1-0ac33e0c741c",
   "metadata": {},
   "outputs": [],
   "source": [
    "import shutil"
   ]
  },
  {
   "cell_type": "code",
   "execution_count": 84,
   "id": "038a79ec-18ca-4281-8a19-4ac5a5ecf5d9",
   "metadata": {},
   "outputs": [
    {
     "data": {
      "text/plain": [
       "'copy_new.txt'"
      ]
     },
     "execution_count": 84,
     "metadata": {},
     "output_type": "execute_result"
    }
   ],
   "source": [
    "shutil.copy('new.txt', 'copy_new.txt')"
   ]
  },
  {
   "cell_type": "code",
   "execution_count": 85,
   "id": "8c62b63f-6a17-488a-9c34-812b912169e1",
   "metadata": {},
   "outputs": [
    {
     "name": "stdout",
     "output_type": "stream",
     "text": [
      "this is my filedata science masters course is highly curated and uniquely designed according to the lastest industry standards.\n"
     ]
    }
   ],
   "source": [
    "with open('new.txt', 'r') as f:\n",
    "    print(f.read())"
   ]
  },
  {
   "cell_type": "code",
   "execution_count": null,
   "id": "0a4768b3-4e9a-458b-adb8-33a24bb50f3d",
   "metadata": {},
   "outputs": [],
   "source": []
  },
  {
   "cell_type": "code",
   "execution_count": null,
   "id": "761b9f70-97dc-42ad-ac22-57a2690bd3be",
   "metadata": {},
   "outputs": [],
   "source": []
  },
  {
   "cell_type": "code",
   "execution_count": null,
   "id": "4fc1b943-8687-4e7a-99ce-6e9426854bb5",
   "metadata": {},
   "outputs": [],
   "source": []
  },
  {
   "cell_type": "code",
   "execution_count": null,
   "id": "da3a9fba-e957-4ffb-9b4b-cdd5c9d8c3f6",
   "metadata": {},
   "outputs": [],
   "source": []
  },
  {
   "cell_type": "code",
   "execution_count": null,
   "id": "5c8f94b2-c6b8-4991-9a9e-d22ae9168a68",
   "metadata": {},
   "outputs": [],
   "source": []
  },
  {
   "cell_type": "code",
   "execution_count": null,
   "id": "12bf2129-9c10-4e4a-b94d-9868e467c27d",
   "metadata": {},
   "outputs": [],
   "source": []
  },
  {
   "cell_type": "code",
   "execution_count": null,
   "id": "61c3e650-722d-4869-a020-de3f39cb1b46",
   "metadata": {},
   "outputs": [],
   "source": []
  },
  {
   "cell_type": "code",
   "execution_count": null,
   "id": "e23a9eda-7dd2-46f2-9e31-6eb3f8f5141b",
   "metadata": {},
   "outputs": [],
   "source": []
  }
 ],
 "metadata": {
  "kernelspec": {
   "display_name": "Python 3 (ipykernel)",
   "language": "python",
   "name": "python3"
  },
  "language_info": {
   "codemirror_mode": {
    "name": "ipython",
    "version": 3
   },
   "file_extension": ".py",
   "mimetype": "text/x-python",
   "name": "python",
   "nbconvert_exporter": "python",
   "pygments_lexer": "ipython3",
   "version": "3.11.7"
  },
  "widgets": {
   "application/vnd.jupyter.widget-state+json": {
    "state": {},
    "version_major": 2,
    "version_minor": 0
   }
  }
 },
 "nbformat": 4,
 "nbformat_minor": 5
}
