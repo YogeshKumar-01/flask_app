{
 "cells": [
  {
   "cell_type": "code",
   "execution_count": 1,
   "id": "f598ba32-34fd-4cca-babf-d24adb62710a",
   "metadata": {},
   "outputs": [],
   "source": [
    "l = [2,3,4,5,6]"
   ]
  },
  {
   "cell_type": "code",
   "execution_count": 2,
   "id": "dc1dbe96-bae5-4ca8-bed9-dc6bbe6e9c0e",
   "metadata": {},
   "outputs": [],
   "source": [
    "def test(l):\n",
    "    l1 = []\n",
    "    for i in l:\n",
    "        l1.append(i**2)\n",
    "    return l1"
   ]
  },
  {
   "cell_type": "code",
   "execution_count": 3,
   "id": "a5d154b5-d3cc-4570-b8f6-1d23d961a63d",
   "metadata": {},
   "outputs": [
    {
     "data": {
      "text/plain": [
       "[4, 9, 16, 25, 36]"
      ]
     },
     "execution_count": 3,
     "metadata": {},
     "output_type": "execute_result"
    }
   ],
   "source": [
    "test(l)"
   ]
  },
  {
   "cell_type": "code",
   "execution_count": 4,
   "id": "4145bc52-689f-4816-b664-e01c0527c083",
   "metadata": {},
   "outputs": [],
   "source": [
    "def sq(x):\n",
    "    return x**2"
   ]
  },
  {
   "cell_type": "code",
   "execution_count": 5,
   "id": "c26ed934-8593-4764-9300-80d62371076b",
   "metadata": {},
   "outputs": [
    {
     "data": {
      "text/plain": [
       "[4, 9, 16, 25, 36]"
      ]
     },
     "execution_count": 5,
     "metadata": {},
     "output_type": "execute_result"
    }
   ],
   "source": [
    "list(map(sq,l))"
   ]
  },
  {
   "cell_type": "code",
   "execution_count": 6,
   "id": "9888b150-fd07-4dd7-8506-1236d9f5fc72",
   "metadata": {},
   "outputs": [
    {
     "data": {
      "text/plain": [
       "[4, 9, 16, 25, 36]"
      ]
     },
     "execution_count": 6,
     "metadata": {},
     "output_type": "execute_result"
    }
   ],
   "source": [
    "list(map(lambda x: x**2,l))"
   ]
  },
  {
   "cell_type": "code",
   "execution_count": 7,
   "id": "a202e58d-e15b-43ff-902b-639026e2b7cd",
   "metadata": {},
   "outputs": [],
   "source": [
    "l1 = [1,2,3,4,5]\n",
    "l2 = [6,7,8,9,10]"
   ]
  },
  {
   "cell_type": "code",
   "execution_count": 8,
   "id": "e7c79911-863b-4648-825d-d481d4601c3f",
   "metadata": {},
   "outputs": [
    {
     "data": {
      "text/plain": [
       "[7, 9, 11, 13, 15]"
      ]
     },
     "execution_count": 8,
     "metadata": {},
     "output_type": "execute_result"
    }
   ],
   "source": [
    "list(map(lambda x,y : x+y , l1,l2))"
   ]
  },
  {
   "cell_type": "code",
   "execution_count": 9,
   "id": "1a71f61e-eacb-48e6-87eb-ad1f0ef1b873",
   "metadata": {},
   "outputs": [
    {
     "data": {
      "text/plain": [
       "['P', 'W', 'S', 'K', 'I', 'L', 'L', 'S']"
      ]
     },
     "execution_count": 9,
     "metadata": {},
     "output_type": "execute_result"
    }
   ],
   "source": [
    "s = 'pwskills'\n",
    "list(map(lambda s : s.upper() , s))"
   ]
  },
  {
   "cell_type": "code",
   "execution_count": 10,
   "id": "a6ca1791-8a5e-468f-a8a0-15ff79766d5d",
   "metadata": {},
   "outputs": [],
   "source": [
    "from functools import reduce"
   ]
  },
  {
   "cell_type": "code",
   "execution_count": 11,
   "id": "0ef130cb-ea28-4518-b12a-f8fc81bdcd0f",
   "metadata": {},
   "outputs": [],
   "source": [
    "l = [1,2,3,4,5]"
   ]
  },
  {
   "cell_type": "code",
   "execution_count": 12,
   "id": "b97c3dfd-02df-4239-9dc6-eb42598b46e2",
   "metadata": {},
   "outputs": [
    {
     "data": {
      "text/plain": [
       "15"
      ]
     },
     "execution_count": 12,
     "metadata": {},
     "output_type": "execute_result"
    }
   ],
   "source": [
    "reduce(lambda x, y: x+y, l)"
   ]
  },
  {
   "cell_type": "code",
   "execution_count": 13,
   "id": "5303a8e0-3ee6-4d15-89f9-fce089dad074",
   "metadata": {},
   "outputs": [],
   "source": [
    "l1 = [1,2,3,4,5,6,7,8]"
   ]
  },
  {
   "cell_type": "code",
   "execution_count": 14,
   "id": "a90dfc2e-80e2-4bc8-9b16-99f6e37699b1",
   "metadata": {},
   "outputs": [
    {
     "ename": "TypeError",
     "evalue": "<lambda>() missing 1 required positional argument: 'z'",
     "output_type": "error",
     "traceback": [
      "\u001b[1;31m---------------------------------------------------------------------------\u001b[0m",
      "\u001b[1;31mTypeError\u001b[0m                                 Traceback (most recent call last)",
      "Cell \u001b[1;32mIn[14], line 1\u001b[0m\n\u001b[1;32m----> 1\u001b[0m reduce(\u001b[38;5;28;01mlambda\u001b[39;00m x, y, z : x\u001b[38;5;241m+\u001b[39my\u001b[38;5;241m+\u001b[39mz, l1)\n",
      "\u001b[1;31mTypeError\u001b[0m: <lambda>() missing 1 required positional argument: 'z'"
     ]
    }
   ],
   "source": [
    "reduce(lambda x, y, z : x+y+z, l1)"
   ]
  },
  {
   "cell_type": "code",
   "execution_count": null,
   "id": "0d3575a7-0a4a-42f9-b0e6-e74f1697aac1",
   "metadata": {},
   "outputs": [],
   "source": [
    "reduce(lambda x, y:x+y,[])"
   ]
  },
  {
   "cell_type": "code",
   "execution_count": null,
   "id": "028512ae-d256-409e-88e2-eb9e6cf7ba2b",
   "metadata": {},
   "outputs": [],
   "source": [
    "reduce(lambda x,y : x+y, [1])"
   ]
  },
  {
   "cell_type": "raw",
   "id": "5573f2dc-0bfc-437a-8d92-11650c3e11d0",
   "metadata": {},
   "source": []
  },
  {
   "cell_type": "code",
   "execution_count": null,
   "id": "1faa849f-ecec-45fd-b7dc-1053c21e588d",
   "metadata": {},
   "outputs": [],
   "source": [
    "reduce(lambda x,y : x*y , l)"
   ]
  },
  {
   "cell_type": "code",
   "execution_count": null,
   "id": "28590fef-f25d-4df9-9157-38b9829135f2",
   "metadata": {},
   "outputs": [],
   "source": [
    "reduce(lambda x,y : x if x>y else y,l)"
   ]
  },
  {
   "cell_type": "code",
   "execution_count": null,
   "id": "ad362f33-308d-4fc8-a4a6-38ac13977fb6",
   "metadata": {},
   "outputs": [],
   "source": [
    "l"
   ]
  },
  {
   "cell_type": "code",
   "execution_count": null,
   "id": "d921b438-2b48-4ee0-bacc-519aef7c3194",
   "metadata": {},
   "outputs": [],
   "source": [
    "l"
   ]
  },
  {
   "cell_type": "code",
   "execution_count": null,
   "id": "2580b6e8-6807-4c3b-9c46-31aa3a8694eb",
   "metadata": {},
   "outputs": [],
   "source": [
    "list(filter(lambda x : x%2 !=0,l))"
   ]
  },
  {
   "cell_type": "code",
   "execution_count": null,
   "id": "eff06f8a-7c44-4ab9-a156-51288b8983bf",
   "metadata": {},
   "outputs": [],
   "source": [
    "l1 = [-3,4,5,6,-1,-5]"
   ]
  },
  {
   "cell_type": "code",
   "execution_count": null,
   "id": "4a9e4042-994d-4952-a093-201f41102e1d",
   "metadata": {},
   "outputs": [],
   "source": [
    "list(filter(lambda x : x<0 , l1))"
   ]
  },
  {
   "cell_type": "code",
   "execution_count": 15,
   "id": "995f736f-58e8-492e-8e40-b80d6316b503",
   "metadata": {},
   "outputs": [],
   "source": [
    "l2 = ['sudh', 'pwskills', 'kumar', 'bengalore', 'krish']"
   ]
  },
  {
   "cell_type": "code",
   "execution_count": 16,
   "id": "648eaa8a-7538-4bf9-acfd-bf755e80aed0",
   "metadata": {},
   "outputs": [
    {
     "data": {
      "text/plain": [
       "['sudh', 'kumar', 'krish']"
      ]
     },
     "execution_count": 16,
     "metadata": {},
     "output_type": "execute_result"
    }
   ],
   "source": [
    "list(filter(lambda x : len(x)<6, l2))"
   ]
  },
  {
   "cell_type": "code",
   "execution_count": null,
   "id": "27193e2a-ec69-4df8-bda1-eac707dea289",
   "metadata": {},
   "outputs": [],
   "source": []
  },
  {
   "cell_type": "code",
   "execution_count": null,
   "id": "222838ec-295c-42f0-bb91-b9837d25271b",
   "metadata": {},
   "outputs": [],
   "source": []
  }
 ],
 "metadata": {
  "kernelspec": {
   "display_name": "Python 3 (ipykernel)",
   "language": "python",
   "name": "python3"
  },
  "language_info": {
   "codemirror_mode": {
    "name": "ipython",
    "version": 3
   },
   "file_extension": ".py",
   "mimetype": "text/x-python",
   "name": "python",
   "nbconvert_exporter": "python",
   "pygments_lexer": "ipython3",
   "version": "3.11.7"
  },
  "widgets": {
   "application/vnd.jupyter.widget-state+json": {
    "state": {},
    "version_major": 2,
    "version_minor": 0
   }
  }
 },
 "nbformat": 4,
 "nbformat_minor": 5
}
